{
 "cells": [
  {
   "cell_type": "markdown",
   "id": "30429a13",
   "metadata": {},
   "source": [
    "# 1. User Data\n"
   ]
  },
  {
   "cell_type": "code",
   "execution_count": 59,
   "id": "f00774ca",
   "metadata": {},
   "outputs": [],
   "source": [
    "#Importing libraries\n",
    "import pandas as pd\n",
    "import plotly.express as px\n",
    "import plotly.graph_objects as go"
   ]
  },
  {
   "cell_type": "code",
   "execution_count": 60,
   "id": "7cf51721",
   "metadata": {},
   "outputs": [
    {
     "data": {
      "text/html": [
       "<div>\n",
       "<style scoped>\n",
       "    .dataframe tbody tr th:only-of-type {\n",
       "        vertical-align: middle;\n",
       "    }\n",
       "\n",
       "    .dataframe tbody tr th {\n",
       "        vertical-align: top;\n",
       "    }\n",
       "\n",
       "    .dataframe thead th {\n",
       "        text-align: right;\n",
       "    }\n",
       "</style>\n",
       "<table border=\"1\" class=\"dataframe\">\n",
       "  <thead>\n",
       "    <tr style=\"text-align: right;\">\n",
       "      <th></th>\n",
       "      <th>user_id</th>\n",
       "      <th>channel</th>\n",
       "      <th>market</th>\n",
       "      <th>platform</th>\n",
       "      <th>age</th>\n",
       "    </tr>\n",
       "  </thead>\n",
       "  <tbody>\n",
       "    <tr>\n",
       "      <th>0</th>\n",
       "      <td>b64caac4-c6a8-4b85-b504-2bbd3e28e175</td>\n",
       "      <td>organic</td>\n",
       "      <td>FRA</td>\n",
       "      <td>ios</td>\n",
       "      <td>35</td>\n",
       "    </tr>\n",
       "    <tr>\n",
       "      <th>1</th>\n",
       "      <td>77d7332a-3220-49e2-bd86-780a421926ac</td>\n",
       "      <td>organic</td>\n",
       "      <td>FRA</td>\n",
       "      <td>ios</td>\n",
       "      <td>20</td>\n",
       "    </tr>\n",
       "    <tr>\n",
       "      <th>2</th>\n",
       "      <td>24fcc884-8938-49f1-ae3b-3d33ed3a9c53</td>\n",
       "      <td>paid_social</td>\n",
       "      <td>FRA</td>\n",
       "      <td>ios</td>\n",
       "      <td>25</td>\n",
       "    </tr>\n",
       "    <tr>\n",
       "      <th>3</th>\n",
       "      <td>55b9ab0e-72b8-4751-8225-623014cb877f</td>\n",
       "      <td>affiliate</td>\n",
       "      <td>FRA</td>\n",
       "      <td>ios</td>\n",
       "      <td>24</td>\n",
       "    </tr>\n",
       "    <tr>\n",
       "      <th>4</th>\n",
       "      <td>11f32569-a4b1-4850-a90a-e535e6242168</td>\n",
       "      <td>organic</td>\n",
       "      <td>FRA</td>\n",
       "      <td>ios</td>\n",
       "      <td>23</td>\n",
       "    </tr>\n",
       "    <tr>\n",
       "      <th>...</th>\n",
       "      <td>...</td>\n",
       "      <td>...</td>\n",
       "      <td>...</td>\n",
       "      <td>...</td>\n",
       "      <td>...</td>\n",
       "    </tr>\n",
       "    <tr>\n",
       "      <th>21224</th>\n",
       "      <td>79196f5f-53a5-4c71-a4f7-56ecfea173c7</td>\n",
       "      <td>paid_social</td>\n",
       "      <td>ESP</td>\n",
       "      <td>android</td>\n",
       "      <td>31</td>\n",
       "    </tr>\n",
       "    <tr>\n",
       "      <th>21225</th>\n",
       "      <td>4cb69f6f-0960-479e-839b-3071b945813a</td>\n",
       "      <td>organic</td>\n",
       "      <td>ESP</td>\n",
       "      <td>ios</td>\n",
       "      <td>19</td>\n",
       "    </tr>\n",
       "    <tr>\n",
       "      <th>21226</th>\n",
       "      <td>782d139b-3f48-429b-87d9-84910e5f3baf</td>\n",
       "      <td>affiliate</td>\n",
       "      <td>ESP</td>\n",
       "      <td>android</td>\n",
       "      <td>45</td>\n",
       "    </tr>\n",
       "    <tr>\n",
       "      <th>21227</th>\n",
       "      <td>c376d4dd-bcee-4ae3-9ca5-1bab74b911fc</td>\n",
       "      <td>organic</td>\n",
       "      <td>ESP</td>\n",
       "      <td>ios</td>\n",
       "      <td>25</td>\n",
       "    </tr>\n",
       "    <tr>\n",
       "      <th>21228</th>\n",
       "      <td>3b3c2430-2517-4a72-b84e-5166382fbc30</td>\n",
       "      <td>affiliate</td>\n",
       "      <td>ESP</td>\n",
       "      <td>ios</td>\n",
       "      <td>25</td>\n",
       "    </tr>\n",
       "  </tbody>\n",
       "</table>\n",
       "<p>21229 rows × 5 columns</p>\n",
       "</div>"
      ],
      "text/plain": [
       "                                    user_id      channel market platform  age\n",
       "0      b64caac4-c6a8-4b85-b504-2bbd3e28e175      organic    FRA      ios   35\n",
       "1      77d7332a-3220-49e2-bd86-780a421926ac      organic    FRA      ios   20\n",
       "2      24fcc884-8938-49f1-ae3b-3d33ed3a9c53  paid_social    FRA      ios   25\n",
       "3      55b9ab0e-72b8-4751-8225-623014cb877f    affiliate    FRA      ios   24\n",
       "4      11f32569-a4b1-4850-a90a-e535e6242168      organic    FRA      ios   23\n",
       "...                                     ...          ...    ...      ...  ...\n",
       "21224  79196f5f-53a5-4c71-a4f7-56ecfea173c7  paid_social    ESP  android   31\n",
       "21225  4cb69f6f-0960-479e-839b-3071b945813a      organic    ESP      ios   19\n",
       "21226  782d139b-3f48-429b-87d9-84910e5f3baf    affiliate    ESP  android   45\n",
       "21227  c376d4dd-bcee-4ae3-9ca5-1bab74b911fc      organic    ESP      ios   25\n",
       "21228  3b3c2430-2517-4a72-b84e-5166382fbc30    affiliate    ESP      ios   25\n",
       "\n",
       "[21229 rows x 5 columns]"
      ]
     },
     "execution_count": 60,
     "metadata": {},
     "output_type": "execute_result"
    }
   ],
   "source": [
    "#Loading the User Data\n",
    "user_data = pd.read_csv('users.csv')\n",
    "user_data                                               # 21229 rows × 5 columns"
   ]
  },
  {
   "cell_type": "code",
   "execution_count": 61,
   "id": "901cf63a",
   "metadata": {},
   "outputs": [
    {
     "data": {
      "text/html": [
       "<div>\n",
       "<style scoped>\n",
       "    .dataframe tbody tr th:only-of-type {\n",
       "        vertical-align: middle;\n",
       "    }\n",
       "\n",
       "    .dataframe tbody tr th {\n",
       "        vertical-align: top;\n",
       "    }\n",
       "\n",
       "    .dataframe thead th {\n",
       "        text-align: right;\n",
       "    }\n",
       "</style>\n",
       "<table border=\"1\" class=\"dataframe\">\n",
       "  <thead>\n",
       "    <tr style=\"text-align: right;\">\n",
       "      <th></th>\n",
       "      <th>user_id</th>\n",
       "      <th>channel</th>\n",
       "      <th>market</th>\n",
       "      <th>platform</th>\n",
       "      <th>age</th>\n",
       "    </tr>\n",
       "  </thead>\n",
       "  <tbody>\n",
       "    <tr>\n",
       "      <th>0</th>\n",
       "      <td>b64caac4-c6a8-4b85-b504-2bbd3e28e175</td>\n",
       "      <td>organic</td>\n",
       "      <td>FRA</td>\n",
       "      <td>ios</td>\n",
       "      <td>35</td>\n",
       "    </tr>\n",
       "    <tr>\n",
       "      <th>1</th>\n",
       "      <td>77d7332a-3220-49e2-bd86-780a421926ac</td>\n",
       "      <td>organic</td>\n",
       "      <td>FRA</td>\n",
       "      <td>ios</td>\n",
       "      <td>20</td>\n",
       "    </tr>\n",
       "    <tr>\n",
       "      <th>2</th>\n",
       "      <td>24fcc884-8938-49f1-ae3b-3d33ed3a9c53</td>\n",
       "      <td>paid_social</td>\n",
       "      <td>FRA</td>\n",
       "      <td>ios</td>\n",
       "      <td>25</td>\n",
       "    </tr>\n",
       "    <tr>\n",
       "      <th>3</th>\n",
       "      <td>55b9ab0e-72b8-4751-8225-623014cb877f</td>\n",
       "      <td>affiliate</td>\n",
       "      <td>FRA</td>\n",
       "      <td>ios</td>\n",
       "      <td>24</td>\n",
       "    </tr>\n",
       "    <tr>\n",
       "      <th>4</th>\n",
       "      <td>11f32569-a4b1-4850-a90a-e535e6242168</td>\n",
       "      <td>organic</td>\n",
       "      <td>FRA</td>\n",
       "      <td>ios</td>\n",
       "      <td>23</td>\n",
       "    </tr>\n",
       "    <tr>\n",
       "      <th>5</th>\n",
       "      <td>bb08535b-bb89-4118-957f-0ff5fd7b2943</td>\n",
       "      <td>organic</td>\n",
       "      <td>FRA</td>\n",
       "      <td>ios</td>\n",
       "      <td>19</td>\n",
       "    </tr>\n",
       "    <tr>\n",
       "      <th>6</th>\n",
       "      <td>2358e1c4-6c07-48c0-b91c-69740ca079a3</td>\n",
       "      <td>affiliate</td>\n",
       "      <td>FRA</td>\n",
       "      <td>ios</td>\n",
       "      <td>45</td>\n",
       "    </tr>\n",
       "    <tr>\n",
       "      <th>7</th>\n",
       "      <td>05258620-8c2b-4aa4-86cb-73e5741a345f</td>\n",
       "      <td>organic</td>\n",
       "      <td>FRA</td>\n",
       "      <td>ios</td>\n",
       "      <td>28</td>\n",
       "    </tr>\n",
       "    <tr>\n",
       "      <th>8</th>\n",
       "      <td>17ee176f-1de1-4302-9583-fab929dc35ec</td>\n",
       "      <td>affiliate</td>\n",
       "      <td>FRA</td>\n",
       "      <td>android</td>\n",
       "      <td>26</td>\n",
       "    </tr>\n",
       "    <tr>\n",
       "      <th>9</th>\n",
       "      <td>84c7e4ea-21f1-4ed4-80be-a469863fa77e</td>\n",
       "      <td>paid_social</td>\n",
       "      <td>FRA</td>\n",
       "      <td>ios</td>\n",
       "      <td>39</td>\n",
       "    </tr>\n",
       "  </tbody>\n",
       "</table>\n",
       "</div>"
      ],
      "text/plain": [
       "                                user_id      channel market platform  age\n",
       "0  b64caac4-c6a8-4b85-b504-2bbd3e28e175      organic    FRA      ios   35\n",
       "1  77d7332a-3220-49e2-bd86-780a421926ac      organic    FRA      ios   20\n",
       "2  24fcc884-8938-49f1-ae3b-3d33ed3a9c53  paid_social    FRA      ios   25\n",
       "3  55b9ab0e-72b8-4751-8225-623014cb877f    affiliate    FRA      ios   24\n",
       "4  11f32569-a4b1-4850-a90a-e535e6242168      organic    FRA      ios   23\n",
       "5  bb08535b-bb89-4118-957f-0ff5fd7b2943      organic    FRA      ios   19\n",
       "6  2358e1c4-6c07-48c0-b91c-69740ca079a3    affiliate    FRA      ios   45\n",
       "7  05258620-8c2b-4aa4-86cb-73e5741a345f      organic    FRA      ios   28\n",
       "8  17ee176f-1de1-4302-9583-fab929dc35ec    affiliate    FRA  android   26\n",
       "9  84c7e4ea-21f1-4ed4-80be-a469863fa77e  paid_social    FRA      ios   39"
      ]
     },
     "execution_count": 61,
     "metadata": {},
     "output_type": "execute_result"
    }
   ],
   "source": [
    "user_data.head(10)"
   ]
  },
  {
   "cell_type": "code",
   "execution_count": 62,
   "id": "fe7465ee",
   "metadata": {},
   "outputs": [
    {
     "data": {
      "text/html": [
       "<div>\n",
       "<style scoped>\n",
       "    .dataframe tbody tr th:only-of-type {\n",
       "        vertical-align: middle;\n",
       "    }\n",
       "\n",
       "    .dataframe tbody tr th {\n",
       "        vertical-align: top;\n",
       "    }\n",
       "\n",
       "    .dataframe thead th {\n",
       "        text-align: right;\n",
       "    }\n",
       "</style>\n",
       "<table border=\"1\" class=\"dataframe\">\n",
       "  <thead>\n",
       "    <tr style=\"text-align: right;\">\n",
       "      <th></th>\n",
       "      <th>user_id</th>\n",
       "      <th>channel</th>\n",
       "      <th>market</th>\n",
       "      <th>platform</th>\n",
       "      <th>age</th>\n",
       "    </tr>\n",
       "  </thead>\n",
       "  <tbody>\n",
       "    <tr>\n",
       "      <th>21219</th>\n",
       "      <td>38211f6a-f84c-402f-ac65-bcb41ae00f98</td>\n",
       "      <td>affiliate</td>\n",
       "      <td>ESP</td>\n",
       "      <td>ios</td>\n",
       "      <td>29</td>\n",
       "    </tr>\n",
       "    <tr>\n",
       "      <th>21220</th>\n",
       "      <td>80ad87b9-52d2-4c8d-9566-6bd072b2dfda</td>\n",
       "      <td>paid_social</td>\n",
       "      <td>ESP</td>\n",
       "      <td>android</td>\n",
       "      <td>31</td>\n",
       "    </tr>\n",
       "    <tr>\n",
       "      <th>21221</th>\n",
       "      <td>df6fbb84-fbf7-4021-b1db-f17e3d86550c</td>\n",
       "      <td>organic</td>\n",
       "      <td>ESP</td>\n",
       "      <td>ios</td>\n",
       "      <td>28</td>\n",
       "    </tr>\n",
       "    <tr>\n",
       "      <th>21222</th>\n",
       "      <td>dfc3f77f-9218-4b4d-b18b-ad0d27494750</td>\n",
       "      <td>organic</td>\n",
       "      <td>ESP</td>\n",
       "      <td>android</td>\n",
       "      <td>23</td>\n",
       "    </tr>\n",
       "    <tr>\n",
       "      <th>21223</th>\n",
       "      <td>cd37e4d8-84b9-44b7-a382-c9da33291bf2</td>\n",
       "      <td>paid_search</td>\n",
       "      <td>ESP</td>\n",
       "      <td>android</td>\n",
       "      <td>24</td>\n",
       "    </tr>\n",
       "    <tr>\n",
       "      <th>21224</th>\n",
       "      <td>79196f5f-53a5-4c71-a4f7-56ecfea173c7</td>\n",
       "      <td>paid_social</td>\n",
       "      <td>ESP</td>\n",
       "      <td>android</td>\n",
       "      <td>31</td>\n",
       "    </tr>\n",
       "    <tr>\n",
       "      <th>21225</th>\n",
       "      <td>4cb69f6f-0960-479e-839b-3071b945813a</td>\n",
       "      <td>organic</td>\n",
       "      <td>ESP</td>\n",
       "      <td>ios</td>\n",
       "      <td>19</td>\n",
       "    </tr>\n",
       "    <tr>\n",
       "      <th>21226</th>\n",
       "      <td>782d139b-3f48-429b-87d9-84910e5f3baf</td>\n",
       "      <td>affiliate</td>\n",
       "      <td>ESP</td>\n",
       "      <td>android</td>\n",
       "      <td>45</td>\n",
       "    </tr>\n",
       "    <tr>\n",
       "      <th>21227</th>\n",
       "      <td>c376d4dd-bcee-4ae3-9ca5-1bab74b911fc</td>\n",
       "      <td>organic</td>\n",
       "      <td>ESP</td>\n",
       "      <td>ios</td>\n",
       "      <td>25</td>\n",
       "    </tr>\n",
       "    <tr>\n",
       "      <th>21228</th>\n",
       "      <td>3b3c2430-2517-4a72-b84e-5166382fbc30</td>\n",
       "      <td>affiliate</td>\n",
       "      <td>ESP</td>\n",
       "      <td>ios</td>\n",
       "      <td>25</td>\n",
       "    </tr>\n",
       "  </tbody>\n",
       "</table>\n",
       "</div>"
      ],
      "text/plain": [
       "                                    user_id      channel market platform  age\n",
       "21219  38211f6a-f84c-402f-ac65-bcb41ae00f98    affiliate    ESP      ios   29\n",
       "21220  80ad87b9-52d2-4c8d-9566-6bd072b2dfda  paid_social    ESP  android   31\n",
       "21221  df6fbb84-fbf7-4021-b1db-f17e3d86550c      organic    ESP      ios   28\n",
       "21222  dfc3f77f-9218-4b4d-b18b-ad0d27494750      organic    ESP  android   23\n",
       "21223  cd37e4d8-84b9-44b7-a382-c9da33291bf2  paid_search    ESP  android   24\n",
       "21224  79196f5f-53a5-4c71-a4f7-56ecfea173c7  paid_social    ESP  android   31\n",
       "21225  4cb69f6f-0960-479e-839b-3071b945813a      organic    ESP      ios   19\n",
       "21226  782d139b-3f48-429b-87d9-84910e5f3baf    affiliate    ESP  android   45\n",
       "21227  c376d4dd-bcee-4ae3-9ca5-1bab74b911fc      organic    ESP      ios   25\n",
       "21228  3b3c2430-2517-4a72-b84e-5166382fbc30    affiliate    ESP      ios   25"
      ]
     },
     "execution_count": 62,
     "metadata": {},
     "output_type": "execute_result"
    }
   ],
   "source": [
    "user_data.tail(10)"
   ]
  },
  {
   "cell_type": "code",
   "execution_count": 63,
   "id": "646ac92b",
   "metadata": {},
   "outputs": [
    {
     "data": {
      "text/html": [
       "<div>\n",
       "<style scoped>\n",
       "    .dataframe tbody tr th:only-of-type {\n",
       "        vertical-align: middle;\n",
       "    }\n",
       "\n",
       "    .dataframe tbody tr th {\n",
       "        vertical-align: top;\n",
       "    }\n",
       "\n",
       "    .dataframe thead th {\n",
       "        text-align: right;\n",
       "    }\n",
       "</style>\n",
       "<table border=\"1\" class=\"dataframe\">\n",
       "  <thead>\n",
       "    <tr style=\"text-align: right;\">\n",
       "      <th></th>\n",
       "      <th>user_id</th>\n",
       "      <th>channel</th>\n",
       "      <th>market</th>\n",
       "      <th>platform</th>\n",
       "      <th>age</th>\n",
       "    </tr>\n",
       "  </thead>\n",
       "  <tbody>\n",
       "    <tr>\n",
       "      <th>5722</th>\n",
       "      <td>b1e027dc-c06e-42fa-84a3-3693bb209715</td>\n",
       "      <td>organic</td>\n",
       "      <td>DEU</td>\n",
       "      <td>android</td>\n",
       "      <td>80</td>\n",
       "    </tr>\n",
       "    <tr>\n",
       "      <th>9939</th>\n",
       "      <td>aa540734-0ab8-40fc-b481-0c4cb0c219e6</td>\n",
       "      <td>organic</td>\n",
       "      <td>DEU</td>\n",
       "      <td>android</td>\n",
       "      <td>80</td>\n",
       "    </tr>\n",
       "    <tr>\n",
       "      <th>16094</th>\n",
       "      <td>1605b41c-c797-433f-b354-0937b5152023</td>\n",
       "      <td>affiliate</td>\n",
       "      <td>AUT</td>\n",
       "      <td>android</td>\n",
       "      <td>80</td>\n",
       "    </tr>\n",
       "    <tr>\n",
       "      <th>10779</th>\n",
       "      <td>e42a26c9-b395-4fd8-af71-cb49190e2569</td>\n",
       "      <td>organic</td>\n",
       "      <td>DEU</td>\n",
       "      <td>android</td>\n",
       "      <td>80</td>\n",
       "    </tr>\n",
       "    <tr>\n",
       "      <th>6751</th>\n",
       "      <td>ea9d1485-49ff-4851-bd5e-f3c61305f83a</td>\n",
       "      <td>organic</td>\n",
       "      <td>DEU</td>\n",
       "      <td>ios</td>\n",
       "      <td>80</td>\n",
       "    </tr>\n",
       "    <tr>\n",
       "      <th>10804</th>\n",
       "      <td>1595193a-ed67-471c-a025-15e154ae8d74</td>\n",
       "      <td>paid_social</td>\n",
       "      <td>DEU</td>\n",
       "      <td>ios</td>\n",
       "      <td>80</td>\n",
       "    </tr>\n",
       "    <tr>\n",
       "      <th>8573</th>\n",
       "      <td>f56b5e79-50cb-44ff-a783-4a5fe97fa98e</td>\n",
       "      <td>paid_search</td>\n",
       "      <td>DEU</td>\n",
       "      <td>ios</td>\n",
       "      <td>80</td>\n",
       "    </tr>\n",
       "    <tr>\n",
       "      <th>12122</th>\n",
       "      <td>898ba3fa-031a-48d4-bb10-30bb314db9ce</td>\n",
       "      <td>paid_social</td>\n",
       "      <td>DEU</td>\n",
       "      <td>ios</td>\n",
       "      <td>80</td>\n",
       "    </tr>\n",
       "    <tr>\n",
       "      <th>13461</th>\n",
       "      <td>b3929931-af77-40c4-9a87-17a01b9acbbc</td>\n",
       "      <td>organic</td>\n",
       "      <td>DEU</td>\n",
       "      <td>ios</td>\n",
       "      <td>80</td>\n",
       "    </tr>\n",
       "    <tr>\n",
       "      <th>5633</th>\n",
       "      <td>07455754-3676-49c8-90ff-9855c91200df</td>\n",
       "      <td>affiliate</td>\n",
       "      <td>DEU</td>\n",
       "      <td>android</td>\n",
       "      <td>80</td>\n",
       "    </tr>\n",
       "  </tbody>\n",
       "</table>\n",
       "</div>"
      ],
      "text/plain": [
       "                                    user_id      channel market platform  age\n",
       "5722   b1e027dc-c06e-42fa-84a3-3693bb209715      organic    DEU  android   80\n",
       "9939   aa540734-0ab8-40fc-b481-0c4cb0c219e6      organic    DEU  android   80\n",
       "16094  1605b41c-c797-433f-b354-0937b5152023    affiliate    AUT  android   80\n",
       "10779  e42a26c9-b395-4fd8-af71-cb49190e2569      organic    DEU  android   80\n",
       "6751   ea9d1485-49ff-4851-bd5e-f3c61305f83a      organic    DEU      ios   80\n",
       "10804  1595193a-ed67-471c-a025-15e154ae8d74  paid_social    DEU      ios   80\n",
       "8573   f56b5e79-50cb-44ff-a783-4a5fe97fa98e  paid_search    DEU      ios   80\n",
       "12122  898ba3fa-031a-48d4-bb10-30bb314db9ce  paid_social    DEU      ios   80\n",
       "13461  b3929931-af77-40c4-9a87-17a01b9acbbc      organic    DEU      ios   80\n",
       "5633   07455754-3676-49c8-90ff-9855c91200df    affiliate    DEU  android   80"
      ]
     },
     "execution_count": 63,
     "metadata": {},
     "output_type": "execute_result"
    }
   ],
   "source": [
    "user_data_age = user_data.sort_values(\"age\")\n",
    "user_data_age.tail(10)"
   ]
  },
  {
   "cell_type": "code",
   "execution_count": 64,
   "id": "3fe8d47e",
   "metadata": {},
   "outputs": [
    {
     "data": {
      "text/html": [
       "<div>\n",
       "<style scoped>\n",
       "    .dataframe tbody tr th:only-of-type {\n",
       "        vertical-align: middle;\n",
       "    }\n",
       "\n",
       "    .dataframe tbody tr th {\n",
       "        vertical-align: top;\n",
       "    }\n",
       "\n",
       "    .dataframe thead th {\n",
       "        text-align: right;\n",
       "    }\n",
       "</style>\n",
       "<table border=\"1\" class=\"dataframe\">\n",
       "  <thead>\n",
       "    <tr style=\"text-align: right;\">\n",
       "      <th></th>\n",
       "      <th>user_id</th>\n",
       "      <th>channel</th>\n",
       "      <th>market</th>\n",
       "      <th>platform</th>\n",
       "      <th>age</th>\n",
       "    </tr>\n",
       "  </thead>\n",
       "  <tbody>\n",
       "    <tr>\n",
       "      <th>3666</th>\n",
       "      <td>afaf6a44-ee93-4156-b68b-ec2b95da39c9</td>\n",
       "      <td>paid_social</td>\n",
       "      <td>FRA</td>\n",
       "      <td>ios</td>\n",
       "      <td>18</td>\n",
       "    </tr>\n",
       "    <tr>\n",
       "      <th>19621</th>\n",
       "      <td>ccb7bc1b-b4f9-4654-bd74-1759071d0134</td>\n",
       "      <td>affiliate</td>\n",
       "      <td>ESP</td>\n",
       "      <td>android</td>\n",
       "      <td>18</td>\n",
       "    </tr>\n",
       "    <tr>\n",
       "      <th>17803</th>\n",
       "      <td>9b830c0c-8938-4437-b9ec-ff4c1a315c07</td>\n",
       "      <td>affiliate</td>\n",
       "      <td>AUT</td>\n",
       "      <td>android</td>\n",
       "      <td>18</td>\n",
       "    </tr>\n",
       "    <tr>\n",
       "      <th>10390</th>\n",
       "      <td>af81dd87-b335-4589-a648-20437162368f</td>\n",
       "      <td>organic</td>\n",
       "      <td>DEU</td>\n",
       "      <td>ios</td>\n",
       "      <td>18</td>\n",
       "    </tr>\n",
       "    <tr>\n",
       "      <th>17776</th>\n",
       "      <td>8e5051c7-be49-4f15-a277-ae12a8211e29</td>\n",
       "      <td>paid_social</td>\n",
       "      <td>AUT</td>\n",
       "      <td>ios</td>\n",
       "      <td>18</td>\n",
       "    </tr>\n",
       "    <tr>\n",
       "      <th>19656</th>\n",
       "      <td>bc8b6fc6-f1a0-4fcc-82aa-732297e88d0b</td>\n",
       "      <td>organic</td>\n",
       "      <td>ESP</td>\n",
       "      <td>ios</td>\n",
       "      <td>18</td>\n",
       "    </tr>\n",
       "    <tr>\n",
       "      <th>14649</th>\n",
       "      <td>ef555c69-f73b-4f8c-8931-15b7495ef5c3</td>\n",
       "      <td>paid_social</td>\n",
       "      <td>DEU</td>\n",
       "      <td>android</td>\n",
       "      <td>18</td>\n",
       "    </tr>\n",
       "    <tr>\n",
       "      <th>20866</th>\n",
       "      <td>c61381ae-76c4-466e-b7f4-347d2ad54afd</td>\n",
       "      <td>organic</td>\n",
       "      <td>ESP</td>\n",
       "      <td>ios</td>\n",
       "      <td>18</td>\n",
       "    </tr>\n",
       "    <tr>\n",
       "      <th>4656</th>\n",
       "      <td>e91ad1be-77a0-4a4f-ad87-820bdbb0612a</td>\n",
       "      <td>paid_social</td>\n",
       "      <td>FRA</td>\n",
       "      <td>android</td>\n",
       "      <td>18</td>\n",
       "    </tr>\n",
       "    <tr>\n",
       "      <th>10473</th>\n",
       "      <td>3dbaa3ae-876f-4467-86de-17956442ebed</td>\n",
       "      <td>organic</td>\n",
       "      <td>DEU</td>\n",
       "      <td>ios</td>\n",
       "      <td>18</td>\n",
       "    </tr>\n",
       "  </tbody>\n",
       "</table>\n",
       "</div>"
      ],
      "text/plain": [
       "                                    user_id      channel market platform  age\n",
       "3666   afaf6a44-ee93-4156-b68b-ec2b95da39c9  paid_social    FRA      ios   18\n",
       "19621  ccb7bc1b-b4f9-4654-bd74-1759071d0134    affiliate    ESP  android   18\n",
       "17803  9b830c0c-8938-4437-b9ec-ff4c1a315c07    affiliate    AUT  android   18\n",
       "10390  af81dd87-b335-4589-a648-20437162368f      organic    DEU      ios   18\n",
       "17776  8e5051c7-be49-4f15-a277-ae12a8211e29  paid_social    AUT      ios   18\n",
       "19656  bc8b6fc6-f1a0-4fcc-82aa-732297e88d0b      organic    ESP      ios   18\n",
       "14649  ef555c69-f73b-4f8c-8931-15b7495ef5c3  paid_social    DEU  android   18\n",
       "20866  c61381ae-76c4-466e-b7f4-347d2ad54afd      organic    ESP      ios   18\n",
       "4656   e91ad1be-77a0-4a4f-ad87-820bdbb0612a  paid_social    FRA  android   18\n",
       "10473  3dbaa3ae-876f-4467-86de-17956442ebed      organic    DEU      ios   18"
      ]
     },
     "execution_count": 64,
     "metadata": {},
     "output_type": "execute_result"
    }
   ],
   "source": [
    "user_data_age.head(10)"
   ]
  },
  {
   "cell_type": "markdown",
   "id": "d59468ca",
   "metadata": {},
   "source": [
    "# 1.2 User Data - Data Cleaning"
   ]
  },
  {
   "cell_type": "code",
   "execution_count": 65,
   "id": "694c5685",
   "metadata": {},
   "outputs": [
    {
     "data": {
      "text/html": [
       "<div>\n",
       "<style scoped>\n",
       "    .dataframe tbody tr th:only-of-type {\n",
       "        vertical-align: middle;\n",
       "    }\n",
       "\n",
       "    .dataframe tbody tr th {\n",
       "        vertical-align: top;\n",
       "    }\n",
       "\n",
       "    .dataframe thead th {\n",
       "        text-align: right;\n",
       "    }\n",
       "</style>\n",
       "<table border=\"1\" class=\"dataframe\">\n",
       "  <thead>\n",
       "    <tr style=\"text-align: right;\">\n",
       "      <th></th>\n",
       "      <th>user_id</th>\n",
       "      <th>channel</th>\n",
       "      <th>market</th>\n",
       "      <th>platform</th>\n",
       "      <th>age</th>\n",
       "    </tr>\n",
       "  </thead>\n",
       "  <tbody>\n",
       "    <tr>\n",
       "      <th>0</th>\n",
       "      <td>b64caac4-c6a8-4b85-b504-2bbd3e28e175</td>\n",
       "      <td>organic</td>\n",
       "      <td>FRA</td>\n",
       "      <td>ios</td>\n",
       "      <td>35</td>\n",
       "    </tr>\n",
       "    <tr>\n",
       "      <th>1</th>\n",
       "      <td>77d7332a-3220-49e2-bd86-780a421926ac</td>\n",
       "      <td>organic</td>\n",
       "      <td>FRA</td>\n",
       "      <td>ios</td>\n",
       "      <td>20</td>\n",
       "    </tr>\n",
       "    <tr>\n",
       "      <th>2</th>\n",
       "      <td>24fcc884-8938-49f1-ae3b-3d33ed3a9c53</td>\n",
       "      <td>paid_social</td>\n",
       "      <td>FRA</td>\n",
       "      <td>ios</td>\n",
       "      <td>25</td>\n",
       "    </tr>\n",
       "    <tr>\n",
       "      <th>3</th>\n",
       "      <td>55b9ab0e-72b8-4751-8225-623014cb877f</td>\n",
       "      <td>affiliate</td>\n",
       "      <td>FRA</td>\n",
       "      <td>ios</td>\n",
       "      <td>24</td>\n",
       "    </tr>\n",
       "    <tr>\n",
       "      <th>4</th>\n",
       "      <td>11f32569-a4b1-4850-a90a-e535e6242168</td>\n",
       "      <td>organic</td>\n",
       "      <td>FRA</td>\n",
       "      <td>ios</td>\n",
       "      <td>23</td>\n",
       "    </tr>\n",
       "    <tr>\n",
       "      <th>...</th>\n",
       "      <td>...</td>\n",
       "      <td>...</td>\n",
       "      <td>...</td>\n",
       "      <td>...</td>\n",
       "      <td>...</td>\n",
       "    </tr>\n",
       "    <tr>\n",
       "      <th>21224</th>\n",
       "      <td>79196f5f-53a5-4c71-a4f7-56ecfea173c7</td>\n",
       "      <td>paid_social</td>\n",
       "      <td>ESP</td>\n",
       "      <td>android</td>\n",
       "      <td>31</td>\n",
       "    </tr>\n",
       "    <tr>\n",
       "      <th>21225</th>\n",
       "      <td>4cb69f6f-0960-479e-839b-3071b945813a</td>\n",
       "      <td>organic</td>\n",
       "      <td>ESP</td>\n",
       "      <td>ios</td>\n",
       "      <td>19</td>\n",
       "    </tr>\n",
       "    <tr>\n",
       "      <th>21226</th>\n",
       "      <td>782d139b-3f48-429b-87d9-84910e5f3baf</td>\n",
       "      <td>affiliate</td>\n",
       "      <td>ESP</td>\n",
       "      <td>android</td>\n",
       "      <td>45</td>\n",
       "    </tr>\n",
       "    <tr>\n",
       "      <th>21227</th>\n",
       "      <td>c376d4dd-bcee-4ae3-9ca5-1bab74b911fc</td>\n",
       "      <td>organic</td>\n",
       "      <td>ESP</td>\n",
       "      <td>ios</td>\n",
       "      <td>25</td>\n",
       "    </tr>\n",
       "    <tr>\n",
       "      <th>21228</th>\n",
       "      <td>3b3c2430-2517-4a72-b84e-5166382fbc30</td>\n",
       "      <td>affiliate</td>\n",
       "      <td>ESP</td>\n",
       "      <td>ios</td>\n",
       "      <td>25</td>\n",
       "    </tr>\n",
       "  </tbody>\n",
       "</table>\n",
       "<p>21229 rows × 5 columns</p>\n",
       "</div>"
      ],
      "text/plain": [
       "                                    user_id      channel market platform  age\n",
       "0      b64caac4-c6a8-4b85-b504-2bbd3e28e175      organic    FRA      ios   35\n",
       "1      77d7332a-3220-49e2-bd86-780a421926ac      organic    FRA      ios   20\n",
       "2      24fcc884-8938-49f1-ae3b-3d33ed3a9c53  paid_social    FRA      ios   25\n",
       "3      55b9ab0e-72b8-4751-8225-623014cb877f    affiliate    FRA      ios   24\n",
       "4      11f32569-a4b1-4850-a90a-e535e6242168      organic    FRA      ios   23\n",
       "...                                     ...          ...    ...      ...  ...\n",
       "21224  79196f5f-53a5-4c71-a4f7-56ecfea173c7  paid_social    ESP  android   31\n",
       "21225  4cb69f6f-0960-479e-839b-3071b945813a      organic    ESP      ios   19\n",
       "21226  782d139b-3f48-429b-87d9-84910e5f3baf    affiliate    ESP  android   45\n",
       "21227  c376d4dd-bcee-4ae3-9ca5-1bab74b911fc      organic    ESP      ios   25\n",
       "21228  3b3c2430-2517-4a72-b84e-5166382fbc30    affiliate    ESP      ios   25\n",
       "\n",
       "[21229 rows x 5 columns]"
      ]
     },
     "execution_count": 65,
     "metadata": {},
     "output_type": "execute_result"
    }
   ],
   "source": [
    "user_data = user_data.dropna()  \n",
    "user_data                                              # clean missing values 21229 rows × 5 columns"
   ]
  },
  {
   "cell_type": "code",
   "execution_count": 66,
   "id": "77c183a4",
   "metadata": {},
   "outputs": [
    {
     "name": "stdout",
     "output_type": "stream",
     "text": [
      "<class 'pandas.core.frame.DataFrame'>\n",
      "Int64Index: 21229 entries, 0 to 21228\n",
      "Data columns (total 5 columns):\n",
      " #   Column    Non-Null Count  Dtype \n",
      "---  ------    --------------  ----- \n",
      " 0   user_id   21229 non-null  object\n",
      " 1   channel   21229 non-null  object\n",
      " 2   market    21229 non-null  object\n",
      " 3   platform  21229 non-null  object\n",
      " 4   age       21229 non-null  int64 \n",
      "dtypes: int64(1), object(4)\n",
      "memory usage: 995.1+ KB\n"
     ]
    }
   ],
   "source": [
    "user_data.info()                                       # no missing values 21229 rows × 5 columns"
   ]
  },
  {
   "cell_type": "code",
   "execution_count": null,
   "id": "789775cb",
   "metadata": {},
   "outputs": [],
   "source": []
  },
  {
   "cell_type": "markdown",
   "id": "df88912b",
   "metadata": {},
   "source": [
    "# 1.3 User Data - EDA"
   ]
  },
  {
   "cell_type": "code",
   "execution_count": null,
   "id": "45e0c844",
   "metadata": {},
   "outputs": [],
   "source": []
  },
  {
   "cell_type": "code",
   "execution_count": 67,
   "id": "6a225dff",
   "metadata": {},
   "outputs": [
    {
     "data": {
      "text/html": [
       "<div>\n",
       "<style scoped>\n",
       "    .dataframe tbody tr th:only-of-type {\n",
       "        vertical-align: middle;\n",
       "    }\n",
       "\n",
       "    .dataframe tbody tr th {\n",
       "        vertical-align: top;\n",
       "    }\n",
       "\n",
       "    .dataframe thead th {\n",
       "        text-align: right;\n",
       "    }\n",
       "</style>\n",
       "<table border=\"1\" class=\"dataframe\">\n",
       "  <thead>\n",
       "    <tr style=\"text-align: right;\">\n",
       "      <th></th>\n",
       "      <th>age</th>\n",
       "    </tr>\n",
       "  </thead>\n",
       "  <tbody>\n",
       "    <tr>\n",
       "      <th>count</th>\n",
       "      <td>21229.000000</td>\n",
       "    </tr>\n",
       "    <tr>\n",
       "      <th>mean</th>\n",
       "      <td>31.055490</td>\n",
       "    </tr>\n",
       "    <tr>\n",
       "      <th>std</th>\n",
       "      <td>12.705159</td>\n",
       "    </tr>\n",
       "    <tr>\n",
       "      <th>min</th>\n",
       "      <td>18.000000</td>\n",
       "    </tr>\n",
       "    <tr>\n",
       "      <th>25%</th>\n",
       "      <td>23.000000</td>\n",
       "    </tr>\n",
       "    <tr>\n",
       "      <th>50%</th>\n",
       "      <td>28.000000</td>\n",
       "    </tr>\n",
       "    <tr>\n",
       "      <th>75%</th>\n",
       "      <td>33.000000</td>\n",
       "    </tr>\n",
       "    <tr>\n",
       "      <th>max</th>\n",
       "      <td>80.000000</td>\n",
       "    </tr>\n",
       "  </tbody>\n",
       "</table>\n",
       "</div>"
      ],
      "text/plain": [
       "                age\n",
       "count  21229.000000\n",
       "mean      31.055490\n",
       "std       12.705159\n",
       "min       18.000000\n",
       "25%       23.000000\n",
       "50%       28.000000\n",
       "75%       33.000000\n",
       "max       80.000000"
      ]
     },
     "execution_count": 67,
     "metadata": {},
     "output_type": "execute_result"
    }
   ],
   "source": [
    "user_data.describe()"
   ]
  },
  {
   "cell_type": "code",
   "execution_count": 68,
   "id": "c85f7ede",
   "metadata": {},
   "outputs": [],
   "source": [
    "# 50% of our users are younger than 28 years. \n",
    "# The average custommer's age is 31 years. \n",
    "# The oldest custommer is 80 years old."
   ]
  },
  {
   "cell_type": "code",
   "execution_count": null,
   "id": "03621276",
   "metadata": {},
   "outputs": [],
   "source": []
  },
  {
   "cell_type": "code",
   "execution_count": 69,
   "id": "64e33094",
   "metadata": {},
   "outputs": [
    {
     "data": {
      "text/plain": [
       "array(['organic', 'paid_social', 'affiliate', 'paid_search'], dtype=object)"
      ]
     },
     "execution_count": 69,
     "metadata": {},
     "output_type": "execute_result"
    }
   ],
   "source": [
    "pd.unique(user_data['channel'])"
   ]
  },
  {
   "cell_type": "code",
   "execution_count": 70,
   "id": "18bec2c2",
   "metadata": {},
   "outputs": [
    {
     "data": {
      "text/plain": [
       "array(['FRA', 'DEU', 'AUT', 'GBR', 'ESP'], dtype=object)"
      ]
     },
     "execution_count": 70,
     "metadata": {},
     "output_type": "execute_result"
    }
   ],
   "source": [
    "pd.unique(user_data['market'])"
   ]
  },
  {
   "cell_type": "code",
   "execution_count": 71,
   "id": "84135dc6",
   "metadata": {},
   "outputs": [
    {
     "data": {
      "text/plain": [
       "array(['ios', 'android'], dtype=object)"
      ]
     },
     "execution_count": 71,
     "metadata": {},
     "output_type": "execute_result"
    }
   ],
   "source": [
    "pd.unique(user_data['platform'])"
   ]
  },
  {
   "cell_type": "code",
   "execution_count": 72,
   "id": "5852319b",
   "metadata": {},
   "outputs": [
    {
     "data": {
      "text/plain": [
       "array([35, 20, 25, 24, 23, 19, 45, 28, 26, 39, 77, 34, 29, 21, 22, 32, 62,\n",
       "       59, 31, 71, 36, 30, 53, 27, 18, 33, 67, 64, 66, 68, 37, 69, 47, 43,\n",
       "       46, 65, 73, 52, 60, 55, 72, 76, 41, 78, 40, 57, 56, 80, 79, 42, 38,\n",
       "       54, 51, 58, 49, 44, 48, 70, 50, 63, 74, 61, 75])"
      ]
     },
     "execution_count": 72,
     "metadata": {},
     "output_type": "execute_result"
    }
   ],
   "source": [
    "pd.unique(user_data['age'])"
   ]
  },
  {
   "cell_type": "code",
   "execution_count": 73,
   "id": "c08cc229",
   "metadata": {},
   "outputs": [
    {
     "name": "stdout",
     "output_type": "stream",
     "text": [
      "market\n",
      "AUT    31.027420\n",
      "DEU    31.062297\n",
      "ESP    31.284314\n",
      "FRA    30.920730\n",
      "GBR    31.272102\n",
      "Name: age, dtype: float64\n"
     ]
    }
   ],
   "source": [
    "print(user_data_age.groupby('market')['age'].mean())\n"
   ]
  },
  {
   "cell_type": "code",
   "execution_count": 74,
   "id": "34971a7e",
   "metadata": {},
   "outputs": [],
   "source": [
    "# Average age for each market - around 31 years, FRA - younger, GB, ESP older, DE and AUT - middle"
   ]
  },
  {
   "cell_type": "code",
   "execution_count": null,
   "id": "f44d2d80",
   "metadata": {},
   "outputs": [],
   "source": []
  },
  {
   "cell_type": "code",
   "execution_count": 75,
   "id": "965c42ab",
   "metadata": {},
   "outputs": [],
   "source": [
    "group = user_data_age.groupby('market')"
   ]
  },
  {
   "cell_type": "code",
   "execution_count": 76,
   "id": "11a23eb4",
   "metadata": {},
   "outputs": [
    {
     "data": {
      "text/plain": [
       "market\n",
       "DEU    10161\n",
       "FRA     4983\n",
       "AUT     3027\n",
       "ESP     2040\n",
       "GBR     1018\n",
       "dtype: int64"
      ]
     },
     "execution_count": 76,
     "metadata": {},
     "output_type": "execute_result"
    }
   ],
   "source": [
    "group.size().sort_values(ascending=False)"
   ]
  },
  {
   "cell_type": "markdown",
   "id": "82d321e1",
   "metadata": {},
   "source": [
    "# 2. Funnel Data\n"
   ]
  },
  {
   "cell_type": "markdown",
   "id": "f48efb79",
   "metadata": {},
   "source": [
    "Exploratory Data Analysis"
   ]
  },
  {
   "cell_type": "code",
   "execution_count": 77,
   "id": "d3fa2098",
   "metadata": {},
   "outputs": [
    {
     "data": {
      "text/html": [
       "<div>\n",
       "<style scoped>\n",
       "    .dataframe tbody tr th:only-of-type {\n",
       "        vertical-align: middle;\n",
       "    }\n",
       "\n",
       "    .dataframe tbody tr th {\n",
       "        vertical-align: top;\n",
       "    }\n",
       "\n",
       "    .dataframe thead th {\n",
       "        text-align: right;\n",
       "    }\n",
       "</style>\n",
       "<table border=\"1\" class=\"dataframe\">\n",
       "  <thead>\n",
       "    <tr style=\"text-align: right;\">\n",
       "      <th></th>\n",
       "      <th>user_id</th>\n",
       "      <th>funnel_step</th>\n",
       "      <th>timestamp</th>\n",
       "    </tr>\n",
       "  </thead>\n",
       "  <tbody>\n",
       "    <tr>\n",
       "      <th>0</th>\n",
       "      <td>b64caac4-c6a8-4b85-b504-2bbd3e28e175</td>\n",
       "      <td>sign_up_initiated</td>\n",
       "      <td>2019-01-05 23:00:00</td>\n",
       "    </tr>\n",
       "    <tr>\n",
       "      <th>1</th>\n",
       "      <td>77d7332a-3220-49e2-bd86-780a421926ac</td>\n",
       "      <td>sign_up_initiated</td>\n",
       "      <td>2019-01-27 02:00:00</td>\n",
       "    </tr>\n",
       "    <tr>\n",
       "      <th>2</th>\n",
       "      <td>24fcc884-8938-49f1-ae3b-3d33ed3a9c53</td>\n",
       "      <td>sign_up_initiated</td>\n",
       "      <td>2019-01-30 02:00:00</td>\n",
       "    </tr>\n",
       "    <tr>\n",
       "      <th>3</th>\n",
       "      <td>55b9ab0e-72b8-4751-8225-623014cb877f</td>\n",
       "      <td>sign_up_initiated</td>\n",
       "      <td>2019-01-28 14:00:00</td>\n",
       "    </tr>\n",
       "    <tr>\n",
       "      <th>4</th>\n",
       "      <td>11f32569-a4b1-4850-a90a-e535e6242168</td>\n",
       "      <td>sign_up_initiated</td>\n",
       "      <td>2019-01-02 04:00:00</td>\n",
       "    </tr>\n",
       "    <tr>\n",
       "      <th>...</th>\n",
       "      <td>...</td>\n",
       "      <td>...</td>\n",
       "      <td>...</td>\n",
       "    </tr>\n",
       "    <tr>\n",
       "      <th>52407</th>\n",
       "      <td>51ea344a-6d4e-45fd-8ddd-4c245748272b</td>\n",
       "      <td>first_deposit</td>\n",
       "      <td>2019-02-13 11:00:00</td>\n",
       "    </tr>\n",
       "    <tr>\n",
       "      <th>52408</th>\n",
       "      <td>043cdc30-3664-4a1d-8698-ba62953e30ed</td>\n",
       "      <td>first_deposit</td>\n",
       "      <td>2019-02-04 16:00:00</td>\n",
       "    </tr>\n",
       "    <tr>\n",
       "      <th>52409</th>\n",
       "      <td>87ab9864-c8da-4264-9cc6-af70f9c1c550</td>\n",
       "      <td>first_deposit</td>\n",
       "      <td>2019-02-18 11:00:00</td>\n",
       "    </tr>\n",
       "    <tr>\n",
       "      <th>52410</th>\n",
       "      <td>4be6ddf2-ebd5-4cf8-9b30-115d9ebdf933</td>\n",
       "      <td>first_deposit</td>\n",
       "      <td>2019-01-26 18:00:00</td>\n",
       "    </tr>\n",
       "    <tr>\n",
       "      <th>52411</th>\n",
       "      <td>24ed6309-db3d-4c19-add4-7e9b3e043b64</td>\n",
       "      <td>first_deposit</td>\n",
       "      <td>2019-02-04 10:00:00</td>\n",
       "    </tr>\n",
       "  </tbody>\n",
       "</table>\n",
       "<p>52412 rows × 3 columns</p>\n",
       "</div>"
      ],
      "text/plain": [
       "                                    user_id        funnel_step  \\\n",
       "0      b64caac4-c6a8-4b85-b504-2bbd3e28e175  sign_up_initiated   \n",
       "1      77d7332a-3220-49e2-bd86-780a421926ac  sign_up_initiated   \n",
       "2      24fcc884-8938-49f1-ae3b-3d33ed3a9c53  sign_up_initiated   \n",
       "3      55b9ab0e-72b8-4751-8225-623014cb877f  sign_up_initiated   \n",
       "4      11f32569-a4b1-4850-a90a-e535e6242168  sign_up_initiated   \n",
       "...                                     ...                ...   \n",
       "52407  51ea344a-6d4e-45fd-8ddd-4c245748272b      first_deposit   \n",
       "52408  043cdc30-3664-4a1d-8698-ba62953e30ed      first_deposit   \n",
       "52409  87ab9864-c8da-4264-9cc6-af70f9c1c550      first_deposit   \n",
       "52410  4be6ddf2-ebd5-4cf8-9b30-115d9ebdf933      first_deposit   \n",
       "52411  24ed6309-db3d-4c19-add4-7e9b3e043b64      first_deposit   \n",
       "\n",
       "                 timestamp  \n",
       "0      2019-01-05 23:00:00  \n",
       "1      2019-01-27 02:00:00  \n",
       "2      2019-01-30 02:00:00  \n",
       "3      2019-01-28 14:00:00  \n",
       "4      2019-01-02 04:00:00  \n",
       "...                    ...  \n",
       "52407  2019-02-13 11:00:00  \n",
       "52408  2019-02-04 16:00:00  \n",
       "52409  2019-02-18 11:00:00  \n",
       "52410  2019-01-26 18:00:00  \n",
       "52411  2019-02-04 10:00:00  \n",
       "\n",
       "[52412 rows x 3 columns]"
      ]
     },
     "execution_count": 77,
     "metadata": {},
     "output_type": "execute_result"
    }
   ],
   "source": [
    "#Loading the Funnel Data\n",
    "funnel_data = pd.read_csv('funnel_steps.csv')\n",
    "funnel_data                                              # 52412 rows × 3 columns"
   ]
  },
  {
   "cell_type": "code",
   "execution_count": null,
   "id": "3e39817c",
   "metadata": {},
   "outputs": [],
   "source": []
  },
  {
   "cell_type": "code",
   "execution_count": 78,
   "id": "fdf9407f",
   "metadata": {},
   "outputs": [
    {
     "data": {
      "text/html": [
       "<div>\n",
       "<style scoped>\n",
       "    .dataframe tbody tr th:only-of-type {\n",
       "        vertical-align: middle;\n",
       "    }\n",
       "\n",
       "    .dataframe tbody tr th {\n",
       "        vertical-align: top;\n",
       "    }\n",
       "\n",
       "    .dataframe thead th {\n",
       "        text-align: right;\n",
       "    }\n",
       "</style>\n",
       "<table border=\"1\" class=\"dataframe\">\n",
       "  <thead>\n",
       "    <tr style=\"text-align: right;\">\n",
       "      <th></th>\n",
       "      <th>user_id</th>\n",
       "      <th>funnel_step</th>\n",
       "      <th>timestamp</th>\n",
       "    </tr>\n",
       "  </thead>\n",
       "  <tbody>\n",
       "    <tr>\n",
       "      <th>0</th>\n",
       "      <td>b64caac4-c6a8-4b85-b504-2bbd3e28e175</td>\n",
       "      <td>sign_up_initiated</td>\n",
       "      <td>2019-01-05 23:00:00</td>\n",
       "    </tr>\n",
       "    <tr>\n",
       "      <th>1</th>\n",
       "      <td>77d7332a-3220-49e2-bd86-780a421926ac</td>\n",
       "      <td>sign_up_initiated</td>\n",
       "      <td>2019-01-27 02:00:00</td>\n",
       "    </tr>\n",
       "    <tr>\n",
       "      <th>2</th>\n",
       "      <td>24fcc884-8938-49f1-ae3b-3d33ed3a9c53</td>\n",
       "      <td>sign_up_initiated</td>\n",
       "      <td>2019-01-30 02:00:00</td>\n",
       "    </tr>\n",
       "    <tr>\n",
       "      <th>3</th>\n",
       "      <td>55b9ab0e-72b8-4751-8225-623014cb877f</td>\n",
       "      <td>sign_up_initiated</td>\n",
       "      <td>2019-01-28 14:00:00</td>\n",
       "    </tr>\n",
       "    <tr>\n",
       "      <th>4</th>\n",
       "      <td>11f32569-a4b1-4850-a90a-e535e6242168</td>\n",
       "      <td>sign_up_initiated</td>\n",
       "      <td>2019-01-02 04:00:00</td>\n",
       "    </tr>\n",
       "  </tbody>\n",
       "</table>\n",
       "</div>"
      ],
      "text/plain": [
       "                                user_id        funnel_step  \\\n",
       "0  b64caac4-c6a8-4b85-b504-2bbd3e28e175  sign_up_initiated   \n",
       "1  77d7332a-3220-49e2-bd86-780a421926ac  sign_up_initiated   \n",
       "2  24fcc884-8938-49f1-ae3b-3d33ed3a9c53  sign_up_initiated   \n",
       "3  55b9ab0e-72b8-4751-8225-623014cb877f  sign_up_initiated   \n",
       "4  11f32569-a4b1-4850-a90a-e535e6242168  sign_up_initiated   \n",
       "\n",
       "             timestamp  \n",
       "0  2019-01-05 23:00:00  \n",
       "1  2019-01-27 02:00:00  \n",
       "2  2019-01-30 02:00:00  \n",
       "3  2019-01-28 14:00:00  \n",
       "4  2019-01-02 04:00:00  "
      ]
     },
     "execution_count": 78,
     "metadata": {},
     "output_type": "execute_result"
    }
   ],
   "source": [
    "funnel_data.head()"
   ]
  },
  {
   "cell_type": "code",
   "execution_count": null,
   "id": "d988ea82",
   "metadata": {},
   "outputs": [],
   "source": []
  },
  {
   "cell_type": "code",
   "execution_count": 79,
   "id": "9ac4296b",
   "metadata": {},
   "outputs": [
    {
     "data": {
      "text/html": [
       "<div>\n",
       "<style scoped>\n",
       "    .dataframe tbody tr th:only-of-type {\n",
       "        vertical-align: middle;\n",
       "    }\n",
       "\n",
       "    .dataframe tbody tr th {\n",
       "        vertical-align: top;\n",
       "    }\n",
       "\n",
       "    .dataframe thead th {\n",
       "        text-align: right;\n",
       "    }\n",
       "</style>\n",
       "<table border=\"1\" class=\"dataframe\">\n",
       "  <thead>\n",
       "    <tr style=\"text-align: right;\">\n",
       "      <th></th>\n",
       "      <th>user_id</th>\n",
       "      <th>funnel_step</th>\n",
       "      <th>timestamp</th>\n",
       "    </tr>\n",
       "  </thead>\n",
       "  <tbody>\n",
       "    <tr>\n",
       "      <th>52407</th>\n",
       "      <td>51ea344a-6d4e-45fd-8ddd-4c245748272b</td>\n",
       "      <td>first_deposit</td>\n",
       "      <td>2019-02-13 11:00:00</td>\n",
       "    </tr>\n",
       "    <tr>\n",
       "      <th>52408</th>\n",
       "      <td>043cdc30-3664-4a1d-8698-ba62953e30ed</td>\n",
       "      <td>first_deposit</td>\n",
       "      <td>2019-02-04 16:00:00</td>\n",
       "    </tr>\n",
       "    <tr>\n",
       "      <th>52409</th>\n",
       "      <td>87ab9864-c8da-4264-9cc6-af70f9c1c550</td>\n",
       "      <td>first_deposit</td>\n",
       "      <td>2019-02-18 11:00:00</td>\n",
       "    </tr>\n",
       "    <tr>\n",
       "      <th>52410</th>\n",
       "      <td>4be6ddf2-ebd5-4cf8-9b30-115d9ebdf933</td>\n",
       "      <td>first_deposit</td>\n",
       "      <td>2019-01-26 18:00:00</td>\n",
       "    </tr>\n",
       "    <tr>\n",
       "      <th>52411</th>\n",
       "      <td>24ed6309-db3d-4c19-add4-7e9b3e043b64</td>\n",
       "      <td>first_deposit</td>\n",
       "      <td>2019-02-04 10:00:00</td>\n",
       "    </tr>\n",
       "  </tbody>\n",
       "</table>\n",
       "</div>"
      ],
      "text/plain": [
       "                                    user_id    funnel_step  \\\n",
       "52407  51ea344a-6d4e-45fd-8ddd-4c245748272b  first_deposit   \n",
       "52408  043cdc30-3664-4a1d-8698-ba62953e30ed  first_deposit   \n",
       "52409  87ab9864-c8da-4264-9cc6-af70f9c1c550  first_deposit   \n",
       "52410  4be6ddf2-ebd5-4cf8-9b30-115d9ebdf933  first_deposit   \n",
       "52411  24ed6309-db3d-4c19-add4-7e9b3e043b64  first_deposit   \n",
       "\n",
       "                 timestamp  \n",
       "52407  2019-02-13 11:00:00  \n",
       "52408  2019-02-04 16:00:00  \n",
       "52409  2019-02-18 11:00:00  \n",
       "52410  2019-01-26 18:00:00  \n",
       "52411  2019-02-04 10:00:00  "
      ]
     },
     "execution_count": 79,
     "metadata": {},
     "output_type": "execute_result"
    }
   ],
   "source": [
    "funnel_data.tail()"
   ]
  },
  {
   "cell_type": "code",
   "execution_count": null,
   "id": "f730c000",
   "metadata": {},
   "outputs": [],
   "source": []
  },
  {
   "cell_type": "code",
   "execution_count": 80,
   "id": "d1a8d515",
   "metadata": {},
   "outputs": [
    {
     "data": {
      "text/html": [
       "<div>\n",
       "<style scoped>\n",
       "    .dataframe tbody tr th:only-of-type {\n",
       "        vertical-align: middle;\n",
       "    }\n",
       "\n",
       "    .dataframe tbody tr th {\n",
       "        vertical-align: top;\n",
       "    }\n",
       "\n",
       "    .dataframe thead th {\n",
       "        text-align: right;\n",
       "    }\n",
       "</style>\n",
       "<table border=\"1\" class=\"dataframe\">\n",
       "  <thead>\n",
       "    <tr style=\"text-align: right;\">\n",
       "      <th></th>\n",
       "      <th>user_id</th>\n",
       "      <th>funnel_step</th>\n",
       "      <th>timestamp</th>\n",
       "    </tr>\n",
       "  </thead>\n",
       "  <tbody>\n",
       "    <tr>\n",
       "      <th>count</th>\n",
       "      <td>52412</td>\n",
       "      <td>52412</td>\n",
       "      <td>52412</td>\n",
       "    </tr>\n",
       "    <tr>\n",
       "      <th>unique</th>\n",
       "      <td>21315</td>\n",
       "      <td>4</td>\n",
       "      <td>1590</td>\n",
       "    </tr>\n",
       "    <tr>\n",
       "      <th>top</th>\n",
       "      <td>ca78ebac-106c-49b0-b732-a68661c3612f</td>\n",
       "      <td>sign_up_initiated</td>\n",
       "      <td>2019-01-31 16:00:00</td>\n",
       "    </tr>\n",
       "    <tr>\n",
       "      <th>freq</th>\n",
       "      <td>4</td>\n",
       "      <td>21284</td>\n",
       "      <td>110</td>\n",
       "    </tr>\n",
       "  </tbody>\n",
       "</table>\n",
       "</div>"
      ],
      "text/plain": [
       "                                     user_id        funnel_step  \\\n",
       "count                                  52412              52412   \n",
       "unique                                 21315                  4   \n",
       "top     ca78ebac-106c-49b0-b732-a68661c3612f  sign_up_initiated   \n",
       "freq                                       4              21284   \n",
       "\n",
       "                  timestamp  \n",
       "count                 52412  \n",
       "unique                 1590  \n",
       "top     2019-01-31 16:00:00  \n",
       "freq                    110  "
      ]
     },
     "execution_count": 80,
     "metadata": {},
     "output_type": "execute_result"
    }
   ],
   "source": [
    "funnel_data.describe()"
   ]
  },
  {
   "cell_type": "code",
   "execution_count": null,
   "id": "a7f40fdf",
   "metadata": {},
   "outputs": [],
   "source": []
  },
  {
   "cell_type": "markdown",
   "id": "d1a990d5",
   "metadata": {},
   "source": [
    "# 2.2 Funnel Data - Data Cleaning"
   ]
  },
  {
   "cell_type": "code",
   "execution_count": 81,
   "id": "1a89f02b",
   "metadata": {},
   "outputs": [],
   "source": [
    "#Checking for missing values"
   ]
  },
  {
   "cell_type": "code",
   "execution_count": 82,
   "id": "bf9df5b6",
   "metadata": {},
   "outputs": [
    {
     "name": "stdout",
     "output_type": "stream",
     "text": [
      "<class 'pandas.core.frame.DataFrame'>\n",
      "RangeIndex: 52412 entries, 0 to 52411\n",
      "Data columns (total 3 columns):\n",
      " #   Column       Non-Null Count  Dtype \n",
      "---  ------       --------------  ----- \n",
      " 0   user_id      52412 non-null  object\n",
      " 1   funnel_step  52412 non-null  object\n",
      " 2   timestamp    52412 non-null  object\n",
      "dtypes: object(3)\n",
      "memory usage: 1.2+ MB\n"
     ]
    }
   ],
   "source": [
    "funnel_data.info()                                      # 52412 rows"
   ]
  },
  {
   "cell_type": "code",
   "execution_count": null,
   "id": "fc2454ac",
   "metadata": {},
   "outputs": [],
   "source": []
  },
  {
   "cell_type": "code",
   "execution_count": 83,
   "id": "16d72e8d",
   "metadata": {},
   "outputs": [
    {
     "data": {
      "text/html": [
       "<div>\n",
       "<style scoped>\n",
       "    .dataframe tbody tr th:only-of-type {\n",
       "        vertical-align: middle;\n",
       "    }\n",
       "\n",
       "    .dataframe tbody tr th {\n",
       "        vertical-align: top;\n",
       "    }\n",
       "\n",
       "    .dataframe thead th {\n",
       "        text-align: right;\n",
       "    }\n",
       "</style>\n",
       "<table border=\"1\" class=\"dataframe\">\n",
       "  <thead>\n",
       "    <tr style=\"text-align: right;\">\n",
       "      <th></th>\n",
       "      <th>user_id</th>\n",
       "      <th>funnel_step</th>\n",
       "      <th>timestamp</th>\n",
       "    </tr>\n",
       "  </thead>\n",
       "  <tbody>\n",
       "    <tr>\n",
       "      <th>0</th>\n",
       "      <td>b64caac4-c6a8-4b85-b504-2bbd3e28e175</td>\n",
       "      <td>sign_up_initiated</td>\n",
       "      <td>2019-01-05 23:00:00</td>\n",
       "    </tr>\n",
       "    <tr>\n",
       "      <th>1</th>\n",
       "      <td>77d7332a-3220-49e2-bd86-780a421926ac</td>\n",
       "      <td>sign_up_initiated</td>\n",
       "      <td>2019-01-27 02:00:00</td>\n",
       "    </tr>\n",
       "    <tr>\n",
       "      <th>2</th>\n",
       "      <td>24fcc884-8938-49f1-ae3b-3d33ed3a9c53</td>\n",
       "      <td>sign_up_initiated</td>\n",
       "      <td>2019-01-30 02:00:00</td>\n",
       "    </tr>\n",
       "    <tr>\n",
       "      <th>3</th>\n",
       "      <td>55b9ab0e-72b8-4751-8225-623014cb877f</td>\n",
       "      <td>sign_up_initiated</td>\n",
       "      <td>2019-01-28 14:00:00</td>\n",
       "    </tr>\n",
       "    <tr>\n",
       "      <th>4</th>\n",
       "      <td>11f32569-a4b1-4850-a90a-e535e6242168</td>\n",
       "      <td>sign_up_initiated</td>\n",
       "      <td>2019-01-02 04:00:00</td>\n",
       "    </tr>\n",
       "    <tr>\n",
       "      <th>...</th>\n",
       "      <td>...</td>\n",
       "      <td>...</td>\n",
       "      <td>...</td>\n",
       "    </tr>\n",
       "    <tr>\n",
       "      <th>52407</th>\n",
       "      <td>51ea344a-6d4e-45fd-8ddd-4c245748272b</td>\n",
       "      <td>first_deposit</td>\n",
       "      <td>2019-02-13 11:00:00</td>\n",
       "    </tr>\n",
       "    <tr>\n",
       "      <th>52408</th>\n",
       "      <td>043cdc30-3664-4a1d-8698-ba62953e30ed</td>\n",
       "      <td>first_deposit</td>\n",
       "      <td>2019-02-04 16:00:00</td>\n",
       "    </tr>\n",
       "    <tr>\n",
       "      <th>52409</th>\n",
       "      <td>87ab9864-c8da-4264-9cc6-af70f9c1c550</td>\n",
       "      <td>first_deposit</td>\n",
       "      <td>2019-02-18 11:00:00</td>\n",
       "    </tr>\n",
       "    <tr>\n",
       "      <th>52410</th>\n",
       "      <td>4be6ddf2-ebd5-4cf8-9b30-115d9ebdf933</td>\n",
       "      <td>first_deposit</td>\n",
       "      <td>2019-01-26 18:00:00</td>\n",
       "    </tr>\n",
       "    <tr>\n",
       "      <th>52411</th>\n",
       "      <td>24ed6309-db3d-4c19-add4-7e9b3e043b64</td>\n",
       "      <td>first_deposit</td>\n",
       "      <td>2019-02-04 10:00:00</td>\n",
       "    </tr>\n",
       "  </tbody>\n",
       "</table>\n",
       "<p>52412 rows × 3 columns</p>\n",
       "</div>"
      ],
      "text/plain": [
       "                                    user_id        funnel_step  \\\n",
       "0      b64caac4-c6a8-4b85-b504-2bbd3e28e175  sign_up_initiated   \n",
       "1      77d7332a-3220-49e2-bd86-780a421926ac  sign_up_initiated   \n",
       "2      24fcc884-8938-49f1-ae3b-3d33ed3a9c53  sign_up_initiated   \n",
       "3      55b9ab0e-72b8-4751-8225-623014cb877f  sign_up_initiated   \n",
       "4      11f32569-a4b1-4850-a90a-e535e6242168  sign_up_initiated   \n",
       "...                                     ...                ...   \n",
       "52407  51ea344a-6d4e-45fd-8ddd-4c245748272b      first_deposit   \n",
       "52408  043cdc30-3664-4a1d-8698-ba62953e30ed      first_deposit   \n",
       "52409  87ab9864-c8da-4264-9cc6-af70f9c1c550      first_deposit   \n",
       "52410  4be6ddf2-ebd5-4cf8-9b30-115d9ebdf933      first_deposit   \n",
       "52411  24ed6309-db3d-4c19-add4-7e9b3e043b64      first_deposit   \n",
       "\n",
       "                 timestamp  \n",
       "0      2019-01-05 23:00:00  \n",
       "1      2019-01-27 02:00:00  \n",
       "2      2019-01-30 02:00:00  \n",
       "3      2019-01-28 14:00:00  \n",
       "4      2019-01-02 04:00:00  \n",
       "...                    ...  \n",
       "52407  2019-02-13 11:00:00  \n",
       "52408  2019-02-04 16:00:00  \n",
       "52409  2019-02-18 11:00:00  \n",
       "52410  2019-01-26 18:00:00  \n",
       "52411  2019-02-04 10:00:00  \n",
       "\n",
       "[52412 rows x 3 columns]"
      ]
     },
     "execution_count": 83,
     "metadata": {},
     "output_type": "execute_result"
    }
   ],
   "source": [
    "funnel_data = funnel_data.dropna()  \n",
    "funnel_data                                                # 52412 rows - no missing values"
   ]
  },
  {
   "cell_type": "code",
   "execution_count": null,
   "id": "f3dde0a1",
   "metadata": {},
   "outputs": [],
   "source": []
  },
  {
   "cell_type": "code",
   "execution_count": 84,
   "id": "bae2f261",
   "metadata": {},
   "outputs": [],
   "source": [
    "# Checking for duplicates\n"
   ]
  },
  {
   "cell_type": "code",
   "execution_count": 85,
   "id": "482a30db",
   "metadata": {},
   "outputs": [
    {
     "data": {
      "text/plain": [
       "array([False])"
      ]
     },
     "execution_count": 85,
     "metadata": {},
     "output_type": "execute_result"
    }
   ],
   "source": [
    "df = funnel_data.duplicated().unique()\n",
    "df"
   ]
  },
  {
   "cell_type": "code",
   "execution_count": 86,
   "id": "03e5dcf4",
   "metadata": {},
   "outputs": [],
   "source": [
    "# Scanning the data"
   ]
  },
  {
   "cell_type": "code",
   "execution_count": 87,
   "id": "33fac612",
   "metadata": {},
   "outputs": [
    {
     "data": {
      "text/plain": [
       "array(['sign_up_initiated', 'sign_up_completed', 'kyc_completed',\n",
       "       'first_deposit'], dtype=object)"
      ]
     },
     "execution_count": 87,
     "metadata": {},
     "output_type": "execute_result"
    }
   ],
   "source": [
    "pd.unique(funnel_data['funnel_step'])"
   ]
  },
  {
   "cell_type": "code",
   "execution_count": null,
   "id": "bae95bc3",
   "metadata": {},
   "outputs": [],
   "source": []
  },
  {
   "cell_type": "code",
   "execution_count": 88,
   "id": "020876da",
   "metadata": {},
   "outputs": [
    {
     "data": {
      "text/plain": [
       "array(['2019-01-05 23:00:00', '2019-01-27 02:00:00',\n",
       "       '2019-01-30 02:00:00', ..., '2019-03-09 11:00:00',\n",
       "       '2019-03-15 02:00:00', '2019-03-06 04:00:00'], dtype=object)"
      ]
     },
     "execution_count": 88,
     "metadata": {},
     "output_type": "execute_result"
    }
   ],
   "source": [
    "pd.unique(funnel_data['timestamp'])"
   ]
  },
  {
   "cell_type": "code",
   "execution_count": 89,
   "id": "4c7530f5",
   "metadata": {},
   "outputs": [
    {
     "data": {
      "text/plain": [
       "'2019-01-01 00:00:00'"
      ]
     },
     "execution_count": 89,
     "metadata": {},
     "output_type": "execute_result"
    }
   ],
   "source": [
    "funnel_data['timestamp'].min()"
   ]
  },
  {
   "cell_type": "code",
   "execution_count": null,
   "id": "7d580e3a",
   "metadata": {},
   "outputs": [],
   "source": []
  },
  {
   "cell_type": "code",
   "execution_count": 90,
   "id": "6d1cc7cc",
   "metadata": {},
   "outputs": [
    {
     "data": {
      "text/plain": [
       "'2019-03-19 21:00:00'"
      ]
     },
     "execution_count": 90,
     "metadata": {},
     "output_type": "execute_result"
    }
   ],
   "source": [
    "funnel_data['timestamp'].max()"
   ]
  },
  {
   "cell_type": "code",
   "execution_count": null,
   "id": "13521d48",
   "metadata": {},
   "outputs": [],
   "source": []
  },
  {
   "cell_type": "code",
   "execution_count": 91,
   "id": "25f8b1d6",
   "metadata": {},
   "outputs": [
    {
     "data": {
      "text/plain": [
       "0        2019-01-05 23:00:00\n",
       "1        2019-01-27 02:00:00\n",
       "2        2019-01-30 02:00:00\n",
       "3        2019-01-28 14:00:00\n",
       "4        2019-01-02 04:00:00\n",
       "                ...         \n",
       "52407    2019-02-13 11:00:00\n",
       "52408    2019-02-04 16:00:00\n",
       "52409    2019-02-18 11:00:00\n",
       "52410    2019-01-26 18:00:00\n",
       "52411    2019-02-04 10:00:00\n",
       "Name: timestamp, Length: 52412, dtype: object"
      ]
     },
     "execution_count": 91,
     "metadata": {},
     "output_type": "execute_result"
    }
   ],
   "source": [
    "funnel_data['timestamp']"
   ]
  },
  {
   "cell_type": "code",
   "execution_count": null,
   "id": "835dd15d",
   "metadata": {},
   "outputs": [],
   "source": []
  },
  {
   "cell_type": "code",
   "execution_count": 92,
   "id": "ee3c6479",
   "metadata": {},
   "outputs": [
    {
     "data": {
      "text/plain": [
       "str"
      ]
     },
     "execution_count": 92,
     "metadata": {},
     "output_type": "execute_result"
    }
   ],
   "source": [
    "type(funnel_data['timestamp'][2])"
   ]
  },
  {
   "cell_type": "code",
   "execution_count": 93,
   "id": "3ba1f9ee",
   "metadata": {},
   "outputs": [],
   "source": [
    "# converting to datetime"
   ]
  },
  {
   "cell_type": "code",
   "execution_count": 94,
   "id": "212c7e80",
   "metadata": {},
   "outputs": [],
   "source": [
    "funnel_data['timestamp'] = pd.to_datetime(funnel_data['timestamp'])"
   ]
  },
  {
   "cell_type": "code",
   "execution_count": 95,
   "id": "9cb02db2",
   "metadata": {},
   "outputs": [
    {
     "data": {
      "text/plain": [
       "0       2019-01-05 23:00:00\n",
       "1       2019-01-27 02:00:00\n",
       "2       2019-01-30 02:00:00\n",
       "3       2019-01-28 14:00:00\n",
       "4       2019-01-02 04:00:00\n",
       "                ...        \n",
       "52407   2019-02-13 11:00:00\n",
       "52408   2019-02-04 16:00:00\n",
       "52409   2019-02-18 11:00:00\n",
       "52410   2019-01-26 18:00:00\n",
       "52411   2019-02-04 10:00:00\n",
       "Name: timestamp, Length: 52412, dtype: datetime64[ns]"
      ]
     },
     "execution_count": 95,
     "metadata": {},
     "output_type": "execute_result"
    }
   ],
   "source": [
    "funnel_data['timestamp']"
   ]
  },
  {
   "cell_type": "code",
   "execution_count": null,
   "id": "74319c77",
   "metadata": {},
   "outputs": [],
   "source": []
  },
  {
   "cell_type": "code",
   "execution_count": 96,
   "id": "9fb189c9",
   "metadata": {},
   "outputs": [],
   "source": [
    "# checking the total count of the users in the separate funnel steps"
   ]
  },
  {
   "cell_type": "code",
   "execution_count": 97,
   "id": "7ab8768b",
   "metadata": {},
   "outputs": [
    {
     "data": {
      "text/plain": [
       "sign_up_initiated    21284\n",
       "sign_up_completed    15067\n",
       "kyc_completed         9276\n",
       "first_deposit         6785\n",
       "Name: funnel_step, dtype: int64"
      ]
     },
     "execution_count": 97,
     "metadata": {},
     "output_type": "execute_result"
    }
   ],
   "source": [
    "funnel_steps_count = funnel_data['funnel_step'].value_counts()\n",
    "funnel_steps_count"
   ]
  },
  {
   "cell_type": "markdown",
   "id": "e6fd0fb8",
   "metadata": {},
   "source": [
    "# 3. Calculating Conversion and Drop Out Rates"
   ]
  },
  {
   "cell_type": "code",
   "execution_count": 98,
   "id": "766ff40a",
   "metadata": {},
   "outputs": [],
   "source": [
    "# Total Count   - how many people started the registration\n",
    "# Share         - how many people stayed in the registration process so far\n",
    "# Churn         - how many people started the registration and dropped out before finnishing this stage\n",
    "# Drop Out Rate - how many people started this stage and dropped out before finnishing this stage\n"
   ]
  },
  {
   "cell_type": "code",
   "execution_count": 99,
   "id": "5b0e7dfc",
   "metadata": {},
   "outputs": [
    {
     "data": {
      "text/plain": [
       "0.7079026498778425"
      ]
     },
     "execution_count": 99,
     "metadata": {},
     "output_type": "execute_result"
    }
   ],
   "source": [
    "15067 / 21284        # churn: 30%  \n"
   ]
  },
  {
   "cell_type": "code",
   "execution_count": 100,
   "id": "db2a1230",
   "metadata": {},
   "outputs": [
    {
     "data": {
      "text/plain": [
       "0.4358203345235858"
      ]
     },
     "execution_count": 100,
     "metadata": {},
     "output_type": "execute_result"
    }
   ],
   "source": [
    "9276 / 21284         # churn: 56.5% "
   ]
  },
  {
   "cell_type": "code",
   "execution_count": 101,
   "id": "3bb37c77",
   "metadata": {},
   "outputs": [
    {
     "data": {
      "text/plain": [
       "0.3187840631460252"
      ]
     },
     "execution_count": 101,
     "metadata": {},
     "output_type": "execute_result"
    }
   ],
   "source": [
    "6785 / 21284        # churn: 68.1% "
   ]
  },
  {
   "cell_type": "code",
   "execution_count": 102,
   "id": "1e3b346d",
   "metadata": {},
   "outputs": [],
   "source": [
    "# Sign Up Initiated  Count: 21284  share: 100%       churn: 0%          drop out rate:  0%"
   ]
  },
  {
   "cell_type": "code",
   "execution_count": 103,
   "id": "be4d13c7",
   "metadata": {},
   "outputs": [],
   "source": [
    "# Sign Up Completed  Count: 15067  share:  70%       churn: 29.2%       drop out rate: 29.2%"
   ]
  },
  {
   "cell_type": "code",
   "execution_count": 104,
   "id": "2bd59ccd",
   "metadata": {},
   "outputs": [],
   "source": [
    "# KYC Completed      Count:  9276  share: 43.5%      churn: 56.5%       drop out rate: 38.4%   "
   ]
  },
  {
   "cell_type": "code",
   "execution_count": 105,
   "id": "7da18589",
   "metadata": {},
   "outputs": [],
   "source": [
    "# First Deposit      Count:  6785  share: 31.9%      churn: 68.1%       drop out rate: 26.8%   "
   ]
  },
  {
   "cell_type": "code",
   "execution_count": 106,
   "id": "189ad768",
   "metadata": {},
   "outputs": [],
   "source": [
    "# Isolate 2 KPIs - drop out rate and share of users who start the registration and make a deposit "
   ]
  },
  {
   "cell_type": "code",
   "execution_count": null,
   "id": "7a26f1e1",
   "metadata": {},
   "outputs": [],
   "source": []
  },
  {
   "cell_type": "code",
   "execution_count": 107,
   "id": "0d2d9924",
   "metadata": {},
   "outputs": [],
   "source": [
    "# Calculating Drop Out Rate"
   ]
  },
  {
   "cell_type": "code",
   "execution_count": 108,
   "id": "a6a60518",
   "metadata": {},
   "outputs": [
    {
     "data": {
      "text/plain": [
       "0.2920973501221575"
      ]
     },
     "execution_count": 108,
     "metadata": {},
     "output_type": "execute_result"
    }
   ],
   "source": [
    "(21284 - 15067) /  21284           # Drop Out Rate: Sign Up Initiated ->   Sign Up Completed "
   ]
  },
  {
   "cell_type": "code",
   "execution_count": 109,
   "id": "b6877c2a",
   "metadata": {},
   "outputs": [
    {
     "data": {
      "text/plain": [
       "0.38434990376319106"
      ]
     },
     "execution_count": 109,
     "metadata": {},
     "output_type": "execute_result"
    }
   ],
   "source": [
    "(15067 - 9276)  /  15067           # Drop Out Rate: Sign Up Completed ->   KYC Completed "
   ]
  },
  {
   "cell_type": "code",
   "execution_count": 110,
   "id": "029a38d1",
   "metadata": {},
   "outputs": [
    {
     "data": {
      "text/plain": [
       "0.26854247520482966"
      ]
     },
     "execution_count": 110,
     "metadata": {},
     "output_type": "execute_result"
    }
   ],
   "source": [
    "(9276 - 6785)   /   9276           # Drop Out Rate: KYC Completed     ->   First Deposit"
   ]
  },
  {
   "cell_type": "code",
   "execution_count": 53,
   "id": "952a637e",
   "metadata": {},
   "outputs": [],
   "source": [
    "funnel_steps_market = funnel_data['funnel_step'].value_counts()\n"
   ]
  },
  {
   "cell_type": "code",
   "execution_count": 112,
   "id": "cf5582f7",
   "metadata": {},
   "outputs": [
    {
     "data": {
      "text/plain": [
       "sign_up_initiated    21284\n",
       "sign_up_completed    15067\n",
       "kyc_completed         9276\n",
       "first_deposit         6785\n",
       "Name: funnel_step, dtype: int64"
      ]
     },
     "execution_count": 112,
     "metadata": {},
     "output_type": "execute_result"
    }
   ],
   "source": [
    "funnel_steps_market"
   ]
  },
  {
   "cell_type": "markdown",
   "id": "a87827af",
   "metadata": {},
   "source": [
    "# 4. Merging Data"
   ]
  },
  {
   "cell_type": "code",
   "execution_count": 113,
   "id": "d0f9a39c",
   "metadata": {},
   "outputs": [],
   "source": [
    "funnel_user_data = pd.merge(funnel_data, user_data, on=['user_id'], how = 'right', indicator=True )"
   ]
  },
  {
   "cell_type": "code",
   "execution_count": 114,
   "id": "bd9537a4",
   "metadata": {},
   "outputs": [
    {
     "data": {
      "text/html": [
       "<div>\n",
       "<style scoped>\n",
       "    .dataframe tbody tr th:only-of-type {\n",
       "        vertical-align: middle;\n",
       "    }\n",
       "\n",
       "    .dataframe tbody tr th {\n",
       "        vertical-align: top;\n",
       "    }\n",
       "\n",
       "    .dataframe thead th {\n",
       "        text-align: right;\n",
       "    }\n",
       "</style>\n",
       "<table border=\"1\" class=\"dataframe\">\n",
       "  <thead>\n",
       "    <tr style=\"text-align: right;\">\n",
       "      <th></th>\n",
       "      <th>user_id</th>\n",
       "      <th>funnel_step</th>\n",
       "      <th>timestamp</th>\n",
       "      <th>channel</th>\n",
       "      <th>market</th>\n",
       "      <th>platform</th>\n",
       "      <th>age</th>\n",
       "      <th>_merge</th>\n",
       "    </tr>\n",
       "  </thead>\n",
       "  <tbody>\n",
       "    <tr>\n",
       "      <th>0</th>\n",
       "      <td>b64caac4-c6a8-4b85-b504-2bbd3e28e175</td>\n",
       "      <td>sign_up_initiated</td>\n",
       "      <td>2019-01-05 23:00:00</td>\n",
       "      <td>organic</td>\n",
       "      <td>FRA</td>\n",
       "      <td>ios</td>\n",
       "      <td>35</td>\n",
       "      <td>both</td>\n",
       "    </tr>\n",
       "    <tr>\n",
       "      <th>1</th>\n",
       "      <td>b64caac4-c6a8-4b85-b504-2bbd3e28e175</td>\n",
       "      <td>sign_up_completed</td>\n",
       "      <td>2019-01-07 11:00:00</td>\n",
       "      <td>organic</td>\n",
       "      <td>FRA</td>\n",
       "      <td>ios</td>\n",
       "      <td>35</td>\n",
       "      <td>both</td>\n",
       "    </tr>\n",
       "    <tr>\n",
       "      <th>2</th>\n",
       "      <td>b64caac4-c6a8-4b85-b504-2bbd3e28e175</td>\n",
       "      <td>kyc_completed</td>\n",
       "      <td>2019-01-14 01:00:00</td>\n",
       "      <td>organic</td>\n",
       "      <td>FRA</td>\n",
       "      <td>ios</td>\n",
       "      <td>35</td>\n",
       "      <td>both</td>\n",
       "    </tr>\n",
       "    <tr>\n",
       "      <th>3</th>\n",
       "      <td>77d7332a-3220-49e2-bd86-780a421926ac</td>\n",
       "      <td>sign_up_initiated</td>\n",
       "      <td>2019-01-27 02:00:00</td>\n",
       "      <td>organic</td>\n",
       "      <td>FRA</td>\n",
       "      <td>ios</td>\n",
       "      <td>20</td>\n",
       "      <td>both</td>\n",
       "    </tr>\n",
       "    <tr>\n",
       "      <th>4</th>\n",
       "      <td>77d7332a-3220-49e2-bd86-780a421926ac</td>\n",
       "      <td>sign_up_completed</td>\n",
       "      <td>2019-01-28 12:00:00</td>\n",
       "      <td>organic</td>\n",
       "      <td>FRA</td>\n",
       "      <td>ios</td>\n",
       "      <td>20</td>\n",
       "      <td>both</td>\n",
       "    </tr>\n",
       "    <tr>\n",
       "      <th>5</th>\n",
       "      <td>77d7332a-3220-49e2-bd86-780a421926ac</td>\n",
       "      <td>kyc_completed</td>\n",
       "      <td>2019-02-03 02:00:00</td>\n",
       "      <td>organic</td>\n",
       "      <td>FRA</td>\n",
       "      <td>ios</td>\n",
       "      <td>20</td>\n",
       "      <td>both</td>\n",
       "    </tr>\n",
       "    <tr>\n",
       "      <th>6</th>\n",
       "      <td>24fcc884-8938-49f1-ae3b-3d33ed3a9c53</td>\n",
       "      <td>sign_up_initiated</td>\n",
       "      <td>2019-01-30 02:00:00</td>\n",
       "      <td>paid_social</td>\n",
       "      <td>FRA</td>\n",
       "      <td>ios</td>\n",
       "      <td>25</td>\n",
       "      <td>both</td>\n",
       "    </tr>\n",
       "    <tr>\n",
       "      <th>7</th>\n",
       "      <td>55b9ab0e-72b8-4751-8225-623014cb877f</td>\n",
       "      <td>sign_up_initiated</td>\n",
       "      <td>2019-01-28 14:00:00</td>\n",
       "      <td>affiliate</td>\n",
       "      <td>FRA</td>\n",
       "      <td>ios</td>\n",
       "      <td>24</td>\n",
       "      <td>both</td>\n",
       "    </tr>\n",
       "    <tr>\n",
       "      <th>8</th>\n",
       "      <td>55b9ab0e-72b8-4751-8225-623014cb877f</td>\n",
       "      <td>sign_up_completed</td>\n",
       "      <td>2019-01-30 10:00:00</td>\n",
       "      <td>affiliate</td>\n",
       "      <td>FRA</td>\n",
       "      <td>ios</td>\n",
       "      <td>24</td>\n",
       "      <td>both</td>\n",
       "    </tr>\n",
       "    <tr>\n",
       "      <th>9</th>\n",
       "      <td>55b9ab0e-72b8-4751-8225-623014cb877f</td>\n",
       "      <td>kyc_completed</td>\n",
       "      <td>2019-02-05 18:00:00</td>\n",
       "      <td>affiliate</td>\n",
       "      <td>FRA</td>\n",
       "      <td>ios</td>\n",
       "      <td>24</td>\n",
       "      <td>both</td>\n",
       "    </tr>\n",
       "    <tr>\n",
       "      <th>10</th>\n",
       "      <td>11f32569-a4b1-4850-a90a-e535e6242168</td>\n",
       "      <td>sign_up_initiated</td>\n",
       "      <td>2019-01-02 04:00:00</td>\n",
       "      <td>organic</td>\n",
       "      <td>FRA</td>\n",
       "      <td>ios</td>\n",
       "      <td>23</td>\n",
       "      <td>both</td>\n",
       "    </tr>\n",
       "    <tr>\n",
       "      <th>11</th>\n",
       "      <td>11f32569-a4b1-4850-a90a-e535e6242168</td>\n",
       "      <td>sign_up_completed</td>\n",
       "      <td>2019-01-02 22:00:00</td>\n",
       "      <td>organic</td>\n",
       "      <td>FRA</td>\n",
       "      <td>ios</td>\n",
       "      <td>23</td>\n",
       "      <td>both</td>\n",
       "    </tr>\n",
       "    <tr>\n",
       "      <th>12</th>\n",
       "      <td>11f32569-a4b1-4850-a90a-e535e6242168</td>\n",
       "      <td>kyc_completed</td>\n",
       "      <td>2019-01-09 08:00:00</td>\n",
       "      <td>organic</td>\n",
       "      <td>FRA</td>\n",
       "      <td>ios</td>\n",
       "      <td>23</td>\n",
       "      <td>both</td>\n",
       "    </tr>\n",
       "    <tr>\n",
       "      <th>13</th>\n",
       "      <td>bb08535b-bb89-4118-957f-0ff5fd7b2943</td>\n",
       "      <td>sign_up_initiated</td>\n",
       "      <td>2019-01-08 05:00:00</td>\n",
       "      <td>organic</td>\n",
       "      <td>FRA</td>\n",
       "      <td>ios</td>\n",
       "      <td>19</td>\n",
       "      <td>both</td>\n",
       "    </tr>\n",
       "    <tr>\n",
       "      <th>14</th>\n",
       "      <td>2358e1c4-6c07-48c0-b91c-69740ca079a3</td>\n",
       "      <td>sign_up_initiated</td>\n",
       "      <td>2019-01-17 20:00:00</td>\n",
       "      <td>affiliate</td>\n",
       "      <td>FRA</td>\n",
       "      <td>ios</td>\n",
       "      <td>45</td>\n",
       "      <td>both</td>\n",
       "    </tr>\n",
       "    <tr>\n",
       "      <th>15</th>\n",
       "      <td>05258620-8c2b-4aa4-86cb-73e5741a345f</td>\n",
       "      <td>sign_up_initiated</td>\n",
       "      <td>2019-01-11 15:00:00</td>\n",
       "      <td>organic</td>\n",
       "      <td>FRA</td>\n",
       "      <td>ios</td>\n",
       "      <td>28</td>\n",
       "      <td>both</td>\n",
       "    </tr>\n",
       "    <tr>\n",
       "      <th>16</th>\n",
       "      <td>17ee176f-1de1-4302-9583-fab929dc35ec</td>\n",
       "      <td>sign_up_initiated</td>\n",
       "      <td>2019-01-29 09:00:00</td>\n",
       "      <td>affiliate</td>\n",
       "      <td>FRA</td>\n",
       "      <td>android</td>\n",
       "      <td>26</td>\n",
       "      <td>both</td>\n",
       "    </tr>\n",
       "    <tr>\n",
       "      <th>17</th>\n",
       "      <td>84c7e4ea-21f1-4ed4-80be-a469863fa77e</td>\n",
       "      <td>sign_up_initiated</td>\n",
       "      <td>2019-01-21 03:00:00</td>\n",
       "      <td>paid_social</td>\n",
       "      <td>FRA</td>\n",
       "      <td>ios</td>\n",
       "      <td>39</td>\n",
       "      <td>both</td>\n",
       "    </tr>\n",
       "    <tr>\n",
       "      <th>18</th>\n",
       "      <td>5e6d9d6d-036b-4a01-a14f-997b00e21005</td>\n",
       "      <td>sign_up_initiated</td>\n",
       "      <td>2019-01-05 14:00:00</td>\n",
       "      <td>paid_social</td>\n",
       "      <td>FRA</td>\n",
       "      <td>ios</td>\n",
       "      <td>28</td>\n",
       "      <td>both</td>\n",
       "    </tr>\n",
       "    <tr>\n",
       "      <th>19</th>\n",
       "      <td>fa301541-754a-4afb-aa81-f58c0f6b4448</td>\n",
       "      <td>sign_up_initiated</td>\n",
       "      <td>2019-01-13 05:00:00</td>\n",
       "      <td>paid_search</td>\n",
       "      <td>FRA</td>\n",
       "      <td>android</td>\n",
       "      <td>77</td>\n",
       "      <td>both</td>\n",
       "    </tr>\n",
       "  </tbody>\n",
       "</table>\n",
       "</div>"
      ],
      "text/plain": [
       "                                 user_id        funnel_step  \\\n",
       "0   b64caac4-c6a8-4b85-b504-2bbd3e28e175  sign_up_initiated   \n",
       "1   b64caac4-c6a8-4b85-b504-2bbd3e28e175  sign_up_completed   \n",
       "2   b64caac4-c6a8-4b85-b504-2bbd3e28e175      kyc_completed   \n",
       "3   77d7332a-3220-49e2-bd86-780a421926ac  sign_up_initiated   \n",
       "4   77d7332a-3220-49e2-bd86-780a421926ac  sign_up_completed   \n",
       "5   77d7332a-3220-49e2-bd86-780a421926ac      kyc_completed   \n",
       "6   24fcc884-8938-49f1-ae3b-3d33ed3a9c53  sign_up_initiated   \n",
       "7   55b9ab0e-72b8-4751-8225-623014cb877f  sign_up_initiated   \n",
       "8   55b9ab0e-72b8-4751-8225-623014cb877f  sign_up_completed   \n",
       "9   55b9ab0e-72b8-4751-8225-623014cb877f      kyc_completed   \n",
       "10  11f32569-a4b1-4850-a90a-e535e6242168  sign_up_initiated   \n",
       "11  11f32569-a4b1-4850-a90a-e535e6242168  sign_up_completed   \n",
       "12  11f32569-a4b1-4850-a90a-e535e6242168      kyc_completed   \n",
       "13  bb08535b-bb89-4118-957f-0ff5fd7b2943  sign_up_initiated   \n",
       "14  2358e1c4-6c07-48c0-b91c-69740ca079a3  sign_up_initiated   \n",
       "15  05258620-8c2b-4aa4-86cb-73e5741a345f  sign_up_initiated   \n",
       "16  17ee176f-1de1-4302-9583-fab929dc35ec  sign_up_initiated   \n",
       "17  84c7e4ea-21f1-4ed4-80be-a469863fa77e  sign_up_initiated   \n",
       "18  5e6d9d6d-036b-4a01-a14f-997b00e21005  sign_up_initiated   \n",
       "19  fa301541-754a-4afb-aa81-f58c0f6b4448  sign_up_initiated   \n",
       "\n",
       "             timestamp      channel market platform  age _merge  \n",
       "0  2019-01-05 23:00:00      organic    FRA      ios   35   both  \n",
       "1  2019-01-07 11:00:00      organic    FRA      ios   35   both  \n",
       "2  2019-01-14 01:00:00      organic    FRA      ios   35   both  \n",
       "3  2019-01-27 02:00:00      organic    FRA      ios   20   both  \n",
       "4  2019-01-28 12:00:00      organic    FRA      ios   20   both  \n",
       "5  2019-02-03 02:00:00      organic    FRA      ios   20   both  \n",
       "6  2019-01-30 02:00:00  paid_social    FRA      ios   25   both  \n",
       "7  2019-01-28 14:00:00    affiliate    FRA      ios   24   both  \n",
       "8  2019-01-30 10:00:00    affiliate    FRA      ios   24   both  \n",
       "9  2019-02-05 18:00:00    affiliate    FRA      ios   24   both  \n",
       "10 2019-01-02 04:00:00      organic    FRA      ios   23   both  \n",
       "11 2019-01-02 22:00:00      organic    FRA      ios   23   both  \n",
       "12 2019-01-09 08:00:00      organic    FRA      ios   23   both  \n",
       "13 2019-01-08 05:00:00      organic    FRA      ios   19   both  \n",
       "14 2019-01-17 20:00:00    affiliate    FRA      ios   45   both  \n",
       "15 2019-01-11 15:00:00      organic    FRA      ios   28   both  \n",
       "16 2019-01-29 09:00:00    affiliate    FRA  android   26   both  \n",
       "17 2019-01-21 03:00:00  paid_social    FRA      ios   39   both  \n",
       "18 2019-01-05 14:00:00  paid_social    FRA      ios   28   both  \n",
       "19 2019-01-13 05:00:00  paid_search    FRA  android   77   both  "
      ]
     },
     "execution_count": 114,
     "metadata": {},
     "output_type": "execute_result"
    }
   ],
   "source": [
    "funnel_user_data.head(20)"
   ]
  },
  {
   "cell_type": "code",
   "execution_count": null,
   "id": "c78bd7f8",
   "metadata": {},
   "outputs": [],
   "source": []
  },
  {
   "cell_type": "code",
   "execution_count": 115,
   "id": "b4884207",
   "metadata": {},
   "outputs": [
    {
     "data": {
      "text/html": [
       "<div>\n",
       "<style scoped>\n",
       "    .dataframe tbody tr th:only-of-type {\n",
       "        vertical-align: middle;\n",
       "    }\n",
       "\n",
       "    .dataframe tbody tr th {\n",
       "        vertical-align: top;\n",
       "    }\n",
       "\n",
       "    .dataframe thead th {\n",
       "        text-align: right;\n",
       "    }\n",
       "</style>\n",
       "<table border=\"1\" class=\"dataframe\">\n",
       "  <thead>\n",
       "    <tr style=\"text-align: right;\">\n",
       "      <th></th>\n",
       "      <th>user_id</th>\n",
       "      <th>funnel_step</th>\n",
       "      <th>timestamp</th>\n",
       "      <th>channel</th>\n",
       "      <th>market</th>\n",
       "      <th>platform</th>\n",
       "      <th>age</th>\n",
       "      <th>_merge</th>\n",
       "    </tr>\n",
       "  </thead>\n",
       "  <tbody>\n",
       "    <tr>\n",
       "      <th>52152</th>\n",
       "      <td>38211f6a-f84c-402f-ac65-bcb41ae00f98</td>\n",
       "      <td>sign_up_initiated</td>\n",
       "      <td>2019-01-31 12:00:00</td>\n",
       "      <td>affiliate</td>\n",
       "      <td>ESP</td>\n",
       "      <td>ios</td>\n",
       "      <td>29</td>\n",
       "      <td>both</td>\n",
       "    </tr>\n",
       "    <tr>\n",
       "      <th>52153</th>\n",
       "      <td>38211f6a-f84c-402f-ac65-bcb41ae00f98</td>\n",
       "      <td>sign_up_completed</td>\n",
       "      <td>2019-02-01 15:00:00</td>\n",
       "      <td>affiliate</td>\n",
       "      <td>ESP</td>\n",
       "      <td>ios</td>\n",
       "      <td>29</td>\n",
       "      <td>both</td>\n",
       "    </tr>\n",
       "    <tr>\n",
       "      <th>52154</th>\n",
       "      <td>80ad87b9-52d2-4c8d-9566-6bd072b2dfda</td>\n",
       "      <td>sign_up_initiated</td>\n",
       "      <td>2019-01-07 08:00:00</td>\n",
       "      <td>paid_social</td>\n",
       "      <td>ESP</td>\n",
       "      <td>android</td>\n",
       "      <td>31</td>\n",
       "      <td>both</td>\n",
       "    </tr>\n",
       "    <tr>\n",
       "      <th>52155</th>\n",
       "      <td>df6fbb84-fbf7-4021-b1db-f17e3d86550c</td>\n",
       "      <td>sign_up_initiated</td>\n",
       "      <td>2019-01-11 13:00:00</td>\n",
       "      <td>organic</td>\n",
       "      <td>ESP</td>\n",
       "      <td>ios</td>\n",
       "      <td>28</td>\n",
       "      <td>both</td>\n",
       "    </tr>\n",
       "    <tr>\n",
       "      <th>52156</th>\n",
       "      <td>df6fbb84-fbf7-4021-b1db-f17e3d86550c</td>\n",
       "      <td>sign_up_completed</td>\n",
       "      <td>2019-01-12 03:00:00</td>\n",
       "      <td>organic</td>\n",
       "      <td>ESP</td>\n",
       "      <td>ios</td>\n",
       "      <td>28</td>\n",
       "      <td>both</td>\n",
       "    </tr>\n",
       "    <tr>\n",
       "      <th>52157</th>\n",
       "      <td>dfc3f77f-9218-4b4d-b18b-ad0d27494750</td>\n",
       "      <td>sign_up_initiated</td>\n",
       "      <td>2019-01-16 08:00:00</td>\n",
       "      <td>organic</td>\n",
       "      <td>ESP</td>\n",
       "      <td>android</td>\n",
       "      <td>23</td>\n",
       "      <td>both</td>\n",
       "    </tr>\n",
       "    <tr>\n",
       "      <th>52158</th>\n",
       "      <td>cd37e4d8-84b9-44b7-a382-c9da33291bf2</td>\n",
       "      <td>sign_up_initiated</td>\n",
       "      <td>2019-01-10 11:00:00</td>\n",
       "      <td>paid_search</td>\n",
       "      <td>ESP</td>\n",
       "      <td>android</td>\n",
       "      <td>24</td>\n",
       "      <td>both</td>\n",
       "    </tr>\n",
       "    <tr>\n",
       "      <th>52159</th>\n",
       "      <td>79196f5f-53a5-4c71-a4f7-56ecfea173c7</td>\n",
       "      <td>sign_up_initiated</td>\n",
       "      <td>2019-01-14 19:00:00</td>\n",
       "      <td>paid_social</td>\n",
       "      <td>ESP</td>\n",
       "      <td>android</td>\n",
       "      <td>31</td>\n",
       "      <td>both</td>\n",
       "    </tr>\n",
       "    <tr>\n",
       "      <th>52160</th>\n",
       "      <td>79196f5f-53a5-4c71-a4f7-56ecfea173c7</td>\n",
       "      <td>sign_up_completed</td>\n",
       "      <td>2019-01-15 08:00:00</td>\n",
       "      <td>paid_social</td>\n",
       "      <td>ESP</td>\n",
       "      <td>android</td>\n",
       "      <td>31</td>\n",
       "      <td>both</td>\n",
       "    </tr>\n",
       "    <tr>\n",
       "      <th>52161</th>\n",
       "      <td>79196f5f-53a5-4c71-a4f7-56ecfea173c7</td>\n",
       "      <td>kyc_completed</td>\n",
       "      <td>2019-01-20 05:00:00</td>\n",
       "      <td>paid_social</td>\n",
       "      <td>ESP</td>\n",
       "      <td>android</td>\n",
       "      <td>31</td>\n",
       "      <td>both</td>\n",
       "    </tr>\n",
       "    <tr>\n",
       "      <th>52162</th>\n",
       "      <td>4cb69f6f-0960-479e-839b-3071b945813a</td>\n",
       "      <td>sign_up_initiated</td>\n",
       "      <td>2019-01-25 23:00:00</td>\n",
       "      <td>organic</td>\n",
       "      <td>ESP</td>\n",
       "      <td>ios</td>\n",
       "      <td>19</td>\n",
       "      <td>both</td>\n",
       "    </tr>\n",
       "    <tr>\n",
       "      <th>52163</th>\n",
       "      <td>4cb69f6f-0960-479e-839b-3071b945813a</td>\n",
       "      <td>sign_up_completed</td>\n",
       "      <td>2019-01-27 06:00:00</td>\n",
       "      <td>organic</td>\n",
       "      <td>ESP</td>\n",
       "      <td>ios</td>\n",
       "      <td>19</td>\n",
       "      <td>both</td>\n",
       "    </tr>\n",
       "    <tr>\n",
       "      <th>52164</th>\n",
       "      <td>4cb69f6f-0960-479e-839b-3071b945813a</td>\n",
       "      <td>kyc_completed</td>\n",
       "      <td>2019-02-02 02:00:00</td>\n",
       "      <td>organic</td>\n",
       "      <td>ESP</td>\n",
       "      <td>ios</td>\n",
       "      <td>19</td>\n",
       "      <td>both</td>\n",
       "    </tr>\n",
       "    <tr>\n",
       "      <th>52165</th>\n",
       "      <td>782d139b-3f48-429b-87d9-84910e5f3baf</td>\n",
       "      <td>sign_up_initiated</td>\n",
       "      <td>2019-01-08 07:00:00</td>\n",
       "      <td>affiliate</td>\n",
       "      <td>ESP</td>\n",
       "      <td>android</td>\n",
       "      <td>45</td>\n",
       "      <td>both</td>\n",
       "    </tr>\n",
       "    <tr>\n",
       "      <th>52166</th>\n",
       "      <td>782d139b-3f48-429b-87d9-84910e5f3baf</td>\n",
       "      <td>sign_up_completed</td>\n",
       "      <td>2019-01-08 23:00:00</td>\n",
       "      <td>affiliate</td>\n",
       "      <td>ESP</td>\n",
       "      <td>android</td>\n",
       "      <td>45</td>\n",
       "      <td>both</td>\n",
       "    </tr>\n",
       "    <tr>\n",
       "      <th>52167</th>\n",
       "      <td>782d139b-3f48-429b-87d9-84910e5f3baf</td>\n",
       "      <td>kyc_completed</td>\n",
       "      <td>2019-01-12 20:00:00</td>\n",
       "      <td>affiliate</td>\n",
       "      <td>ESP</td>\n",
       "      <td>android</td>\n",
       "      <td>45</td>\n",
       "      <td>both</td>\n",
       "    </tr>\n",
       "    <tr>\n",
       "      <th>52168</th>\n",
       "      <td>c376d4dd-bcee-4ae3-9ca5-1bab74b911fc</td>\n",
       "      <td>sign_up_initiated</td>\n",
       "      <td>2019-01-10 06:00:00</td>\n",
       "      <td>organic</td>\n",
       "      <td>ESP</td>\n",
       "      <td>ios</td>\n",
       "      <td>25</td>\n",
       "      <td>both</td>\n",
       "    </tr>\n",
       "    <tr>\n",
       "      <th>52169</th>\n",
       "      <td>c376d4dd-bcee-4ae3-9ca5-1bab74b911fc</td>\n",
       "      <td>sign_up_completed</td>\n",
       "      <td>2019-01-10 23:00:00</td>\n",
       "      <td>organic</td>\n",
       "      <td>ESP</td>\n",
       "      <td>ios</td>\n",
       "      <td>25</td>\n",
       "      <td>both</td>\n",
       "    </tr>\n",
       "    <tr>\n",
       "      <th>52170</th>\n",
       "      <td>3b3c2430-2517-4a72-b84e-5166382fbc30</td>\n",
       "      <td>sign_up_initiated</td>\n",
       "      <td>2019-01-28 03:00:00</td>\n",
       "      <td>affiliate</td>\n",
       "      <td>ESP</td>\n",
       "      <td>ios</td>\n",
       "      <td>25</td>\n",
       "      <td>both</td>\n",
       "    </tr>\n",
       "    <tr>\n",
       "      <th>52171</th>\n",
       "      <td>3b3c2430-2517-4a72-b84e-5166382fbc30</td>\n",
       "      <td>sign_up_completed</td>\n",
       "      <td>2019-01-28 12:00:00</td>\n",
       "      <td>affiliate</td>\n",
       "      <td>ESP</td>\n",
       "      <td>ios</td>\n",
       "      <td>25</td>\n",
       "      <td>both</td>\n",
       "    </tr>\n",
       "  </tbody>\n",
       "</table>\n",
       "</div>"
      ],
      "text/plain": [
       "                                    user_id        funnel_step  \\\n",
       "52152  38211f6a-f84c-402f-ac65-bcb41ae00f98  sign_up_initiated   \n",
       "52153  38211f6a-f84c-402f-ac65-bcb41ae00f98  sign_up_completed   \n",
       "52154  80ad87b9-52d2-4c8d-9566-6bd072b2dfda  sign_up_initiated   \n",
       "52155  df6fbb84-fbf7-4021-b1db-f17e3d86550c  sign_up_initiated   \n",
       "52156  df6fbb84-fbf7-4021-b1db-f17e3d86550c  sign_up_completed   \n",
       "52157  dfc3f77f-9218-4b4d-b18b-ad0d27494750  sign_up_initiated   \n",
       "52158  cd37e4d8-84b9-44b7-a382-c9da33291bf2  sign_up_initiated   \n",
       "52159  79196f5f-53a5-4c71-a4f7-56ecfea173c7  sign_up_initiated   \n",
       "52160  79196f5f-53a5-4c71-a4f7-56ecfea173c7  sign_up_completed   \n",
       "52161  79196f5f-53a5-4c71-a4f7-56ecfea173c7      kyc_completed   \n",
       "52162  4cb69f6f-0960-479e-839b-3071b945813a  sign_up_initiated   \n",
       "52163  4cb69f6f-0960-479e-839b-3071b945813a  sign_up_completed   \n",
       "52164  4cb69f6f-0960-479e-839b-3071b945813a      kyc_completed   \n",
       "52165  782d139b-3f48-429b-87d9-84910e5f3baf  sign_up_initiated   \n",
       "52166  782d139b-3f48-429b-87d9-84910e5f3baf  sign_up_completed   \n",
       "52167  782d139b-3f48-429b-87d9-84910e5f3baf      kyc_completed   \n",
       "52168  c376d4dd-bcee-4ae3-9ca5-1bab74b911fc  sign_up_initiated   \n",
       "52169  c376d4dd-bcee-4ae3-9ca5-1bab74b911fc  sign_up_completed   \n",
       "52170  3b3c2430-2517-4a72-b84e-5166382fbc30  sign_up_initiated   \n",
       "52171  3b3c2430-2517-4a72-b84e-5166382fbc30  sign_up_completed   \n",
       "\n",
       "                timestamp      channel market platform  age _merge  \n",
       "52152 2019-01-31 12:00:00    affiliate    ESP      ios   29   both  \n",
       "52153 2019-02-01 15:00:00    affiliate    ESP      ios   29   both  \n",
       "52154 2019-01-07 08:00:00  paid_social    ESP  android   31   both  \n",
       "52155 2019-01-11 13:00:00      organic    ESP      ios   28   both  \n",
       "52156 2019-01-12 03:00:00      organic    ESP      ios   28   both  \n",
       "52157 2019-01-16 08:00:00      organic    ESP  android   23   both  \n",
       "52158 2019-01-10 11:00:00  paid_search    ESP  android   24   both  \n",
       "52159 2019-01-14 19:00:00  paid_social    ESP  android   31   both  \n",
       "52160 2019-01-15 08:00:00  paid_social    ESP  android   31   both  \n",
       "52161 2019-01-20 05:00:00  paid_social    ESP  android   31   both  \n",
       "52162 2019-01-25 23:00:00      organic    ESP      ios   19   both  \n",
       "52163 2019-01-27 06:00:00      organic    ESP      ios   19   both  \n",
       "52164 2019-02-02 02:00:00      organic    ESP      ios   19   both  \n",
       "52165 2019-01-08 07:00:00    affiliate    ESP  android   45   both  \n",
       "52166 2019-01-08 23:00:00    affiliate    ESP  android   45   both  \n",
       "52167 2019-01-12 20:00:00    affiliate    ESP  android   45   both  \n",
       "52168 2019-01-10 06:00:00      organic    ESP      ios   25   both  \n",
       "52169 2019-01-10 23:00:00      organic    ESP      ios   25   both  \n",
       "52170 2019-01-28 03:00:00    affiliate    ESP      ios   25   both  \n",
       "52171 2019-01-28 12:00:00    affiliate    ESP      ios   25   both  "
      ]
     },
     "execution_count": 115,
     "metadata": {},
     "output_type": "execute_result"
    }
   ],
   "source": [
    "funnel_user_data.tail(20)"
   ]
  },
  {
   "cell_type": "code",
   "execution_count": null,
   "id": "bff7cb02",
   "metadata": {},
   "outputs": [],
   "source": []
  },
  {
   "cell_type": "code",
   "execution_count": 116,
   "id": "4c3c082a",
   "metadata": {},
   "outputs": [
    {
     "data": {
      "text/html": [
       "<div>\n",
       "<style scoped>\n",
       "    .dataframe tbody tr th:only-of-type {\n",
       "        vertical-align: middle;\n",
       "    }\n",
       "\n",
       "    .dataframe tbody tr th {\n",
       "        vertical-align: top;\n",
       "    }\n",
       "\n",
       "    .dataframe thead th {\n",
       "        text-align: right;\n",
       "    }\n",
       "</style>\n",
       "<table border=\"1\" class=\"dataframe\">\n",
       "  <thead>\n",
       "    <tr style=\"text-align: right;\">\n",
       "      <th></th>\n",
       "      <th>age</th>\n",
       "    </tr>\n",
       "  </thead>\n",
       "  <tbody>\n",
       "    <tr>\n",
       "      <th>count</th>\n",
       "      <td>52172.000000</td>\n",
       "    </tr>\n",
       "    <tr>\n",
       "      <th>mean</th>\n",
       "      <td>31.029556</td>\n",
       "    </tr>\n",
       "    <tr>\n",
       "      <th>std</th>\n",
       "      <td>12.652867</td>\n",
       "    </tr>\n",
       "    <tr>\n",
       "      <th>min</th>\n",
       "      <td>18.000000</td>\n",
       "    </tr>\n",
       "    <tr>\n",
       "      <th>25%</th>\n",
       "      <td>23.000000</td>\n",
       "    </tr>\n",
       "    <tr>\n",
       "      <th>50%</th>\n",
       "      <td>28.000000</td>\n",
       "    </tr>\n",
       "    <tr>\n",
       "      <th>75%</th>\n",
       "      <td>33.000000</td>\n",
       "    </tr>\n",
       "    <tr>\n",
       "      <th>max</th>\n",
       "      <td>80.000000</td>\n",
       "    </tr>\n",
       "  </tbody>\n",
       "</table>\n",
       "</div>"
      ],
      "text/plain": [
       "                age\n",
       "count  52172.000000\n",
       "mean      31.029556\n",
       "std       12.652867\n",
       "min       18.000000\n",
       "25%       23.000000\n",
       "50%       28.000000\n",
       "75%       33.000000\n",
       "max       80.000000"
      ]
     },
     "execution_count": 116,
     "metadata": {},
     "output_type": "execute_result"
    }
   ],
   "source": [
    "funnel_user_data.describe()"
   ]
  },
  {
   "cell_type": "code",
   "execution_count": null,
   "id": "47dc4f6f",
   "metadata": {},
   "outputs": [],
   "source": []
  },
  {
   "cell_type": "code",
   "execution_count": 117,
   "id": "21e93be7",
   "metadata": {},
   "outputs": [
    {
     "name": "stdout",
     "output_type": "stream",
     "text": [
      "<class 'pandas.core.frame.DataFrame'>\n",
      "Int64Index: 52172 entries, 0 to 52171\n",
      "Data columns (total 8 columns):\n",
      " #   Column       Non-Null Count  Dtype         \n",
      "---  ------       --------------  -----         \n",
      " 0   user_id      52172 non-null  object        \n",
      " 1   funnel_step  52158 non-null  object        \n",
      " 2   timestamp    52158 non-null  datetime64[ns]\n",
      " 3   channel      52172 non-null  object        \n",
      " 4   market       52172 non-null  object        \n",
      " 5   platform     52172 non-null  object        \n",
      " 6   age          52172 non-null  int64         \n",
      " 7   _merge       52172 non-null  category      \n",
      "dtypes: category(1), datetime64[ns](1), int64(1), object(5)\n",
      "memory usage: 3.2+ MB\n"
     ]
    }
   ],
   "source": [
    "funnel_user_data.info()                       "
   ]
  },
  {
   "cell_type": "code",
   "execution_count": null,
   "id": "9d02dcac",
   "metadata": {},
   "outputs": [],
   "source": []
  },
  {
   "cell_type": "code",
   "execution_count": 118,
   "id": "ad89b783",
   "metadata": {},
   "outputs": [
    {
     "data": {
      "text/plain": [
       "user_id         0\n",
       "funnel_step    14\n",
       "timestamp      14\n",
       "channel         0\n",
       "market          0\n",
       "platform        0\n",
       "age             0\n",
       "_merge          0\n",
       "dtype: int64"
      ]
     },
     "execution_count": 118,
     "metadata": {},
     "output_type": "execute_result"
    }
   ],
   "source": [
    "funnel_user_data.isna().sum() "
   ]
  },
  {
   "cell_type": "code",
   "execution_count": null,
   "id": "59bca67f",
   "metadata": {},
   "outputs": [],
   "source": []
  },
  {
   "cell_type": "code",
   "execution_count": 119,
   "id": "6f35ba0d",
   "metadata": {},
   "outputs": [],
   "source": [
    "funnel_user_data = funnel_user_data.dropna()                                    \n"
   ]
  },
  {
   "cell_type": "code",
   "execution_count": 120,
   "id": "84ed8b3a",
   "metadata": {},
   "outputs": [],
   "source": [
    "funnel_user_data = funnel_user_data.dropna(subset=['funnel_step', 'timestamp'])                # 52158 rows × 8 columns clean\n"
   ]
  },
  {
   "cell_type": "code",
   "execution_count": 121,
   "id": "22c3ca36",
   "metadata": {},
   "outputs": [
    {
     "data": {
      "text/plain": [
       "user_id        0\n",
       "funnel_step    0\n",
       "timestamp      0\n",
       "channel        0\n",
       "market         0\n",
       "platform       0\n",
       "age            0\n",
       "_merge         0\n",
       "dtype: int64"
      ]
     },
     "execution_count": 121,
     "metadata": {},
     "output_type": "execute_result"
    }
   ],
   "source": [
    "funnel_user_data.isna().sum() "
   ]
  },
  {
   "cell_type": "code",
   "execution_count": 122,
   "id": "7510d68b",
   "metadata": {},
   "outputs": [
    {
     "data": {
      "text/html": [
       "<div>\n",
       "<style scoped>\n",
       "    .dataframe tbody tr th:only-of-type {\n",
       "        vertical-align: middle;\n",
       "    }\n",
       "\n",
       "    .dataframe tbody tr th {\n",
       "        vertical-align: top;\n",
       "    }\n",
       "\n",
       "    .dataframe thead th {\n",
       "        text-align: right;\n",
       "    }\n",
       "</style>\n",
       "<table border=\"1\" class=\"dataframe\">\n",
       "  <thead>\n",
       "    <tr style=\"text-align: right;\">\n",
       "      <th></th>\n",
       "      <th>user_id</th>\n",
       "      <th>funnel_step</th>\n",
       "      <th>timestamp</th>\n",
       "      <th>channel</th>\n",
       "      <th>market</th>\n",
       "      <th>platform</th>\n",
       "      <th>age</th>\n",
       "      <th>_merge</th>\n",
       "    </tr>\n",
       "  </thead>\n",
       "  <tbody>\n",
       "    <tr>\n",
       "      <th>0</th>\n",
       "      <td>b64caac4-c6a8-4b85-b504-2bbd3e28e175</td>\n",
       "      <td>sign_up_initiated</td>\n",
       "      <td>2019-01-05 23:00:00</td>\n",
       "      <td>organic</td>\n",
       "      <td>FRA</td>\n",
       "      <td>ios</td>\n",
       "      <td>35</td>\n",
       "      <td>both</td>\n",
       "    </tr>\n",
       "    <tr>\n",
       "      <th>1</th>\n",
       "      <td>b64caac4-c6a8-4b85-b504-2bbd3e28e175</td>\n",
       "      <td>sign_up_completed</td>\n",
       "      <td>2019-01-07 11:00:00</td>\n",
       "      <td>organic</td>\n",
       "      <td>FRA</td>\n",
       "      <td>ios</td>\n",
       "      <td>35</td>\n",
       "      <td>both</td>\n",
       "    </tr>\n",
       "    <tr>\n",
       "      <th>2</th>\n",
       "      <td>b64caac4-c6a8-4b85-b504-2bbd3e28e175</td>\n",
       "      <td>kyc_completed</td>\n",
       "      <td>2019-01-14 01:00:00</td>\n",
       "      <td>organic</td>\n",
       "      <td>FRA</td>\n",
       "      <td>ios</td>\n",
       "      <td>35</td>\n",
       "      <td>both</td>\n",
       "    </tr>\n",
       "    <tr>\n",
       "      <th>3</th>\n",
       "      <td>77d7332a-3220-49e2-bd86-780a421926ac</td>\n",
       "      <td>sign_up_initiated</td>\n",
       "      <td>2019-01-27 02:00:00</td>\n",
       "      <td>organic</td>\n",
       "      <td>FRA</td>\n",
       "      <td>ios</td>\n",
       "      <td>20</td>\n",
       "      <td>both</td>\n",
       "    </tr>\n",
       "    <tr>\n",
       "      <th>4</th>\n",
       "      <td>77d7332a-3220-49e2-bd86-780a421926ac</td>\n",
       "      <td>sign_up_completed</td>\n",
       "      <td>2019-01-28 12:00:00</td>\n",
       "      <td>organic</td>\n",
       "      <td>FRA</td>\n",
       "      <td>ios</td>\n",
       "      <td>20</td>\n",
       "      <td>both</td>\n",
       "    </tr>\n",
       "    <tr>\n",
       "      <th>...</th>\n",
       "      <td>...</td>\n",
       "      <td>...</td>\n",
       "      <td>...</td>\n",
       "      <td>...</td>\n",
       "      <td>...</td>\n",
       "      <td>...</td>\n",
       "      <td>...</td>\n",
       "      <td>...</td>\n",
       "    </tr>\n",
       "    <tr>\n",
       "      <th>52167</th>\n",
       "      <td>782d139b-3f48-429b-87d9-84910e5f3baf</td>\n",
       "      <td>kyc_completed</td>\n",
       "      <td>2019-01-12 20:00:00</td>\n",
       "      <td>affiliate</td>\n",
       "      <td>ESP</td>\n",
       "      <td>android</td>\n",
       "      <td>45</td>\n",
       "      <td>both</td>\n",
       "    </tr>\n",
       "    <tr>\n",
       "      <th>52168</th>\n",
       "      <td>c376d4dd-bcee-4ae3-9ca5-1bab74b911fc</td>\n",
       "      <td>sign_up_initiated</td>\n",
       "      <td>2019-01-10 06:00:00</td>\n",
       "      <td>organic</td>\n",
       "      <td>ESP</td>\n",
       "      <td>ios</td>\n",
       "      <td>25</td>\n",
       "      <td>both</td>\n",
       "    </tr>\n",
       "    <tr>\n",
       "      <th>52169</th>\n",
       "      <td>c376d4dd-bcee-4ae3-9ca5-1bab74b911fc</td>\n",
       "      <td>sign_up_completed</td>\n",
       "      <td>2019-01-10 23:00:00</td>\n",
       "      <td>organic</td>\n",
       "      <td>ESP</td>\n",
       "      <td>ios</td>\n",
       "      <td>25</td>\n",
       "      <td>both</td>\n",
       "    </tr>\n",
       "    <tr>\n",
       "      <th>52170</th>\n",
       "      <td>3b3c2430-2517-4a72-b84e-5166382fbc30</td>\n",
       "      <td>sign_up_initiated</td>\n",
       "      <td>2019-01-28 03:00:00</td>\n",
       "      <td>affiliate</td>\n",
       "      <td>ESP</td>\n",
       "      <td>ios</td>\n",
       "      <td>25</td>\n",
       "      <td>both</td>\n",
       "    </tr>\n",
       "    <tr>\n",
       "      <th>52171</th>\n",
       "      <td>3b3c2430-2517-4a72-b84e-5166382fbc30</td>\n",
       "      <td>sign_up_completed</td>\n",
       "      <td>2019-01-28 12:00:00</td>\n",
       "      <td>affiliate</td>\n",
       "      <td>ESP</td>\n",
       "      <td>ios</td>\n",
       "      <td>25</td>\n",
       "      <td>both</td>\n",
       "    </tr>\n",
       "  </tbody>\n",
       "</table>\n",
       "<p>52158 rows × 8 columns</p>\n",
       "</div>"
      ],
      "text/plain": [
       "                                    user_id        funnel_step  \\\n",
       "0      b64caac4-c6a8-4b85-b504-2bbd3e28e175  sign_up_initiated   \n",
       "1      b64caac4-c6a8-4b85-b504-2bbd3e28e175  sign_up_completed   \n",
       "2      b64caac4-c6a8-4b85-b504-2bbd3e28e175      kyc_completed   \n",
       "3      77d7332a-3220-49e2-bd86-780a421926ac  sign_up_initiated   \n",
       "4      77d7332a-3220-49e2-bd86-780a421926ac  sign_up_completed   \n",
       "...                                     ...                ...   \n",
       "52167  782d139b-3f48-429b-87d9-84910e5f3baf      kyc_completed   \n",
       "52168  c376d4dd-bcee-4ae3-9ca5-1bab74b911fc  sign_up_initiated   \n",
       "52169  c376d4dd-bcee-4ae3-9ca5-1bab74b911fc  sign_up_completed   \n",
       "52170  3b3c2430-2517-4a72-b84e-5166382fbc30  sign_up_initiated   \n",
       "52171  3b3c2430-2517-4a72-b84e-5166382fbc30  sign_up_completed   \n",
       "\n",
       "                timestamp    channel market platform  age _merge  \n",
       "0     2019-01-05 23:00:00    organic    FRA      ios   35   both  \n",
       "1     2019-01-07 11:00:00    organic    FRA      ios   35   both  \n",
       "2     2019-01-14 01:00:00    organic    FRA      ios   35   both  \n",
       "3     2019-01-27 02:00:00    organic    FRA      ios   20   both  \n",
       "4     2019-01-28 12:00:00    organic    FRA      ios   20   both  \n",
       "...                   ...        ...    ...      ...  ...    ...  \n",
       "52167 2019-01-12 20:00:00  affiliate    ESP  android   45   both  \n",
       "52168 2019-01-10 06:00:00    organic    ESP      ios   25   both  \n",
       "52169 2019-01-10 23:00:00    organic    ESP      ios   25   both  \n",
       "52170 2019-01-28 03:00:00  affiliate    ESP      ios   25   both  \n",
       "52171 2019-01-28 12:00:00  affiliate    ESP      ios   25   both  \n",
       "\n",
       "[52158 rows x 8 columns]"
      ]
     },
     "execution_count": 122,
     "metadata": {},
     "output_type": "execute_result"
    }
   ],
   "source": [
    "funnel_user_data"
   ]
  },
  {
   "cell_type": "code",
   "execution_count": 123,
   "id": "9169d160",
   "metadata": {},
   "outputs": [
    {
     "data": {
      "text/plain": [
       "(52158, 8)"
      ]
     },
     "execution_count": 123,
     "metadata": {},
     "output_type": "execute_result"
    }
   ],
   "source": [
    "funnel_user_data.shape"
   ]
  },
  {
   "cell_type": "code",
   "execution_count": 124,
   "id": "6a19a0bf",
   "metadata": {},
   "outputs": [],
   "source": [
    "#funnel_markets"
   ]
  },
  {
   "cell_type": "code",
   "execution_count": 125,
   "id": "82591c10",
   "metadata": {},
   "outputs": [],
   "source": [
    "funnel_markets = funnel_user_data.groupby('market').funnel_step.unique()"
   ]
  },
  {
   "cell_type": "code",
   "execution_count": 126,
   "id": "8a625318",
   "metadata": {},
   "outputs": [],
   "source": [
    "# German Market"
   ]
  },
  {
   "cell_type": "code",
   "execution_count": 127,
   "id": "d1330bd1",
   "metadata": {},
   "outputs": [],
   "source": [
    "german_market = funnel_user_data[funnel_user_data.market==\"DEU\"]"
   ]
  },
  {
   "cell_type": "code",
   "execution_count": 129,
   "id": "0b8b960b",
   "metadata": {},
   "outputs": [
    {
     "data": {
      "text/plain": [
       "funnel_step\n",
       "first_deposit        30.982859\n",
       "kyc_completed        30.825942\n",
       "sign_up_completed    31.038258\n",
       "sign_up_initiated    31.070513\n",
       "Name: age, dtype: float64"
      ]
     },
     "execution_count": 129,
     "metadata": {},
     "output_type": "execute_result"
    }
   ],
   "source": [
    "gm_grouped = german_market.groupby('funnel_step').age.mean()\n",
    "gm_grouped"
   ]
  },
  {
   "cell_type": "code",
   "execution_count": 72,
   "id": "10cdde90",
   "metadata": {},
   "outputs": [],
   "source": [
    "gm_grouped_channel = german_market.groupby('channel').age.mean()"
   ]
  },
  {
   "cell_type": "code",
   "execution_count": 73,
   "id": "965b24dd",
   "metadata": {},
   "outputs": [
    {
     "data": {
      "text/plain": [
       "channel\n",
       "affiliate      30.646112\n",
       "organic        31.279139\n",
       "paid_search    30.384211\n",
       "paid_social    31.249277\n",
       "Name: age, dtype: float64"
      ]
     },
     "execution_count": 73,
     "metadata": {},
     "output_type": "execute_result"
    }
   ],
   "source": [
    "gm_grouped_channel"
   ]
  },
  {
   "cell_type": "code",
   "execution_count": 74,
   "id": "e3b9d7e8",
   "metadata": {},
   "outputs": [
    {
     "data": {
      "text/plain": [
       "DEU    25105\n",
       "FRA    12543\n",
       "AUT     7163\n",
       "ESP     4967\n",
       "GBR     2380\n",
       "Name: market, dtype: int64"
      ]
     },
     "execution_count": 74,
     "metadata": {},
     "output_type": "execute_result"
    }
   ],
   "source": [
    "funnel_user_data['market'].value_counts()"
   ]
  },
  {
   "cell_type": "code",
   "execution_count": 75,
   "id": "a183f606",
   "metadata": {},
   "outputs": [
    {
     "data": {
      "text/plain": [
       "sign_up_initiated    21184\n",
       "sign_up_completed    14986\n",
       "kyc_completed         9234\n",
       "first_deposit         6754\n",
       "Name: funnel_step, dtype: int64"
      ]
     },
     "execution_count": 75,
     "metadata": {},
     "output_type": "execute_result"
    }
   ],
   "source": [
    "funnel_user_data['funnel_step'].value_counts()"
   ]
  },
  {
   "cell_type": "code",
   "execution_count": 76,
   "id": "1728f719",
   "metadata": {},
   "outputs": [
    {
     "data": {
      "text/plain": [
       "organic        20703\n",
       "affiliate      14727\n",
       "paid_social    11453\n",
       "paid_search     5275\n",
       "Name: channel, dtype: int64"
      ]
     },
     "execution_count": 76,
     "metadata": {},
     "output_type": "execute_result"
    }
   ],
   "source": [
    "funnel_user_data['channel'].value_counts()"
   ]
  },
  {
   "cell_type": "code",
   "execution_count": 77,
   "id": "eb4b7d76",
   "metadata": {},
   "outputs": [
    {
     "data": {
      "text/plain": [
       "ios        32240\n",
       "android    19918\n",
       "Name: platform, dtype: int64"
      ]
     },
     "execution_count": 77,
     "metadata": {},
     "output_type": "execute_result"
    }
   ],
   "source": [
    "funnel_user_data['platform'].value_counts()"
   ]
  },
  {
   "cell_type": "markdown",
   "id": "680469d9",
   "metadata": {},
   "source": [
    "# Visualisations\n"
   ]
  },
  {
   "cell_type": "code",
   "execution_count": 134,
   "id": "a778f37c",
   "metadata": {},
   "outputs": [
    {
     "data": {
      "application/vnd.plotly.v1+json": {
       "config": {
        "plotlyServerURL": "https://plot.ly"
       },
       "data": [
        {
         "alignmentgroup": "True",
         "hovertemplate": "funnel_step=%{x}<br>index=%{y}<extra></extra>",
         "legendgroup": "",
         "marker": {
          "color": "#636efa"
         },
         "name": "",
         "offsetgroup": "",
         "orientation": "h",
         "showlegend": false,
         "textposition": "auto",
         "type": "bar",
         "x": [
          21284,
          15067,
          9276,
          6785
         ],
         "xaxis": "x",
         "y": [
          "sign_up_initiated",
          "sign_up_completed",
          "kyc_completed",
          "first_deposit"
         ],
         "yaxis": "y"
        }
       ],
       "layout": {
        "barmode": "relative",
        "legend": {
         "tracegroupgap": 0
        },
        "margin": {
         "t": 60
        },
        "template": {
         "data": {
          "bar": [
           {
            "error_x": {
             "color": "#2a3f5f"
            },
            "error_y": {
             "color": "#2a3f5f"
            },
            "marker": {
             "line": {
              "color": "#E5ECF6",
              "width": 0.5
             }
            },
            "type": "bar"
           }
          ],
          "barpolar": [
           {
            "marker": {
             "line": {
              "color": "#E5ECF6",
              "width": 0.5
             }
            },
            "type": "barpolar"
           }
          ],
          "carpet": [
           {
            "aaxis": {
             "endlinecolor": "#2a3f5f",
             "gridcolor": "white",
             "linecolor": "white",
             "minorgridcolor": "white",
             "startlinecolor": "#2a3f5f"
            },
            "baxis": {
             "endlinecolor": "#2a3f5f",
             "gridcolor": "white",
             "linecolor": "white",
             "minorgridcolor": "white",
             "startlinecolor": "#2a3f5f"
            },
            "type": "carpet"
           }
          ],
          "choropleth": [
           {
            "colorbar": {
             "outlinewidth": 0,
             "ticks": ""
            },
            "type": "choropleth"
           }
          ],
          "contour": [
           {
            "colorbar": {
             "outlinewidth": 0,
             "ticks": ""
            },
            "colorscale": [
             [
              0,
              "#0d0887"
             ],
             [
              0.1111111111111111,
              "#46039f"
             ],
             [
              0.2222222222222222,
              "#7201a8"
             ],
             [
              0.3333333333333333,
              "#9c179e"
             ],
             [
              0.4444444444444444,
              "#bd3786"
             ],
             [
              0.5555555555555556,
              "#d8576b"
             ],
             [
              0.6666666666666666,
              "#ed7953"
             ],
             [
              0.7777777777777778,
              "#fb9f3a"
             ],
             [
              0.8888888888888888,
              "#fdca26"
             ],
             [
              1,
              "#f0f921"
             ]
            ],
            "type": "contour"
           }
          ],
          "contourcarpet": [
           {
            "colorbar": {
             "outlinewidth": 0,
             "ticks": ""
            },
            "type": "contourcarpet"
           }
          ],
          "heatmap": [
           {
            "colorbar": {
             "outlinewidth": 0,
             "ticks": ""
            },
            "colorscale": [
             [
              0,
              "#0d0887"
             ],
             [
              0.1111111111111111,
              "#46039f"
             ],
             [
              0.2222222222222222,
              "#7201a8"
             ],
             [
              0.3333333333333333,
              "#9c179e"
             ],
             [
              0.4444444444444444,
              "#bd3786"
             ],
             [
              0.5555555555555556,
              "#d8576b"
             ],
             [
              0.6666666666666666,
              "#ed7953"
             ],
             [
              0.7777777777777778,
              "#fb9f3a"
             ],
             [
              0.8888888888888888,
              "#fdca26"
             ],
             [
              1,
              "#f0f921"
             ]
            ],
            "type": "heatmap"
           }
          ],
          "heatmapgl": [
           {
            "colorbar": {
             "outlinewidth": 0,
             "ticks": ""
            },
            "colorscale": [
             [
              0,
              "#0d0887"
             ],
             [
              0.1111111111111111,
              "#46039f"
             ],
             [
              0.2222222222222222,
              "#7201a8"
             ],
             [
              0.3333333333333333,
              "#9c179e"
             ],
             [
              0.4444444444444444,
              "#bd3786"
             ],
             [
              0.5555555555555556,
              "#d8576b"
             ],
             [
              0.6666666666666666,
              "#ed7953"
             ],
             [
              0.7777777777777778,
              "#fb9f3a"
             ],
             [
              0.8888888888888888,
              "#fdca26"
             ],
             [
              1,
              "#f0f921"
             ]
            ],
            "type": "heatmapgl"
           }
          ],
          "histogram": [
           {
            "marker": {
             "colorbar": {
              "outlinewidth": 0,
              "ticks": ""
             }
            },
            "type": "histogram"
           }
          ],
          "histogram2d": [
           {
            "colorbar": {
             "outlinewidth": 0,
             "ticks": ""
            },
            "colorscale": [
             [
              0,
              "#0d0887"
             ],
             [
              0.1111111111111111,
              "#46039f"
             ],
             [
              0.2222222222222222,
              "#7201a8"
             ],
             [
              0.3333333333333333,
              "#9c179e"
             ],
             [
              0.4444444444444444,
              "#bd3786"
             ],
             [
              0.5555555555555556,
              "#d8576b"
             ],
             [
              0.6666666666666666,
              "#ed7953"
             ],
             [
              0.7777777777777778,
              "#fb9f3a"
             ],
             [
              0.8888888888888888,
              "#fdca26"
             ],
             [
              1,
              "#f0f921"
             ]
            ],
            "type": "histogram2d"
           }
          ],
          "histogram2dcontour": [
           {
            "colorbar": {
             "outlinewidth": 0,
             "ticks": ""
            },
            "colorscale": [
             [
              0,
              "#0d0887"
             ],
             [
              0.1111111111111111,
              "#46039f"
             ],
             [
              0.2222222222222222,
              "#7201a8"
             ],
             [
              0.3333333333333333,
              "#9c179e"
             ],
             [
              0.4444444444444444,
              "#bd3786"
             ],
             [
              0.5555555555555556,
              "#d8576b"
             ],
             [
              0.6666666666666666,
              "#ed7953"
             ],
             [
              0.7777777777777778,
              "#fb9f3a"
             ],
             [
              0.8888888888888888,
              "#fdca26"
             ],
             [
              1,
              "#f0f921"
             ]
            ],
            "type": "histogram2dcontour"
           }
          ],
          "mesh3d": [
           {
            "colorbar": {
             "outlinewidth": 0,
             "ticks": ""
            },
            "type": "mesh3d"
           }
          ],
          "parcoords": [
           {
            "line": {
             "colorbar": {
              "outlinewidth": 0,
              "ticks": ""
             }
            },
            "type": "parcoords"
           }
          ],
          "pie": [
           {
            "automargin": true,
            "type": "pie"
           }
          ],
          "scatter": [
           {
            "marker": {
             "colorbar": {
              "outlinewidth": 0,
              "ticks": ""
             }
            },
            "type": "scatter"
           }
          ],
          "scatter3d": [
           {
            "line": {
             "colorbar": {
              "outlinewidth": 0,
              "ticks": ""
             }
            },
            "marker": {
             "colorbar": {
              "outlinewidth": 0,
              "ticks": ""
             }
            },
            "type": "scatter3d"
           }
          ],
          "scattercarpet": [
           {
            "marker": {
             "colorbar": {
              "outlinewidth": 0,
              "ticks": ""
             }
            },
            "type": "scattercarpet"
           }
          ],
          "scattergeo": [
           {
            "marker": {
             "colorbar": {
              "outlinewidth": 0,
              "ticks": ""
             }
            },
            "type": "scattergeo"
           }
          ],
          "scattergl": [
           {
            "marker": {
             "colorbar": {
              "outlinewidth": 0,
              "ticks": ""
             }
            },
            "type": "scattergl"
           }
          ],
          "scattermapbox": [
           {
            "marker": {
             "colorbar": {
              "outlinewidth": 0,
              "ticks": ""
             }
            },
            "type": "scattermapbox"
           }
          ],
          "scatterpolar": [
           {
            "marker": {
             "colorbar": {
              "outlinewidth": 0,
              "ticks": ""
             }
            },
            "type": "scatterpolar"
           }
          ],
          "scatterpolargl": [
           {
            "marker": {
             "colorbar": {
              "outlinewidth": 0,
              "ticks": ""
             }
            },
            "type": "scatterpolargl"
           }
          ],
          "scatterternary": [
           {
            "marker": {
             "colorbar": {
              "outlinewidth": 0,
              "ticks": ""
             }
            },
            "type": "scatterternary"
           }
          ],
          "surface": [
           {
            "colorbar": {
             "outlinewidth": 0,
             "ticks": ""
            },
            "colorscale": [
             [
              0,
              "#0d0887"
             ],
             [
              0.1111111111111111,
              "#46039f"
             ],
             [
              0.2222222222222222,
              "#7201a8"
             ],
             [
              0.3333333333333333,
              "#9c179e"
             ],
             [
              0.4444444444444444,
              "#bd3786"
             ],
             [
              0.5555555555555556,
              "#d8576b"
             ],
             [
              0.6666666666666666,
              "#ed7953"
             ],
             [
              0.7777777777777778,
              "#fb9f3a"
             ],
             [
              0.8888888888888888,
              "#fdca26"
             ],
             [
              1,
              "#f0f921"
             ]
            ],
            "type": "surface"
           }
          ],
          "table": [
           {
            "cells": {
             "fill": {
              "color": "#EBF0F8"
             },
             "line": {
              "color": "white"
             }
            },
            "header": {
             "fill": {
              "color": "#C8D4E3"
             },
             "line": {
              "color": "white"
             }
            },
            "type": "table"
           }
          ]
         },
         "layout": {
          "annotationdefaults": {
           "arrowcolor": "#2a3f5f",
           "arrowhead": 0,
           "arrowwidth": 1
          },
          "autotypenumbers": "strict",
          "coloraxis": {
           "colorbar": {
            "outlinewidth": 0,
            "ticks": ""
           }
          },
          "colorscale": {
           "diverging": [
            [
             0,
             "#8e0152"
            ],
            [
             0.1,
             "#c51b7d"
            ],
            [
             0.2,
             "#de77ae"
            ],
            [
             0.3,
             "#f1b6da"
            ],
            [
             0.4,
             "#fde0ef"
            ],
            [
             0.5,
             "#f7f7f7"
            ],
            [
             0.6,
             "#e6f5d0"
            ],
            [
             0.7,
             "#b8e186"
            ],
            [
             0.8,
             "#7fbc41"
            ],
            [
             0.9,
             "#4d9221"
            ],
            [
             1,
             "#276419"
            ]
           ],
           "sequential": [
            [
             0,
             "#0d0887"
            ],
            [
             0.1111111111111111,
             "#46039f"
            ],
            [
             0.2222222222222222,
             "#7201a8"
            ],
            [
             0.3333333333333333,
             "#9c179e"
            ],
            [
             0.4444444444444444,
             "#bd3786"
            ],
            [
             0.5555555555555556,
             "#d8576b"
            ],
            [
             0.6666666666666666,
             "#ed7953"
            ],
            [
             0.7777777777777778,
             "#fb9f3a"
            ],
            [
             0.8888888888888888,
             "#fdca26"
            ],
            [
             1,
             "#f0f921"
            ]
           ],
           "sequentialminus": [
            [
             0,
             "#0d0887"
            ],
            [
             0.1111111111111111,
             "#46039f"
            ],
            [
             0.2222222222222222,
             "#7201a8"
            ],
            [
             0.3333333333333333,
             "#9c179e"
            ],
            [
             0.4444444444444444,
             "#bd3786"
            ],
            [
             0.5555555555555556,
             "#d8576b"
            ],
            [
             0.6666666666666666,
             "#ed7953"
            ],
            [
             0.7777777777777778,
             "#fb9f3a"
            ],
            [
             0.8888888888888888,
             "#fdca26"
            ],
            [
             1,
             "#f0f921"
            ]
           ]
          },
          "colorway": [
           "#636efa",
           "#EF553B",
           "#00cc96",
           "#ab63fa",
           "#FFA15A",
           "#19d3f3",
           "#FF6692",
           "#B6E880",
           "#FF97FF",
           "#FECB52"
          ],
          "font": {
           "color": "#2a3f5f"
          },
          "geo": {
           "bgcolor": "white",
           "lakecolor": "white",
           "landcolor": "#E5ECF6",
           "showlakes": true,
           "showland": true,
           "subunitcolor": "white"
          },
          "hoverlabel": {
           "align": "left"
          },
          "hovermode": "closest",
          "mapbox": {
           "style": "light"
          },
          "paper_bgcolor": "white",
          "plot_bgcolor": "#E5ECF6",
          "polar": {
           "angularaxis": {
            "gridcolor": "white",
            "linecolor": "white",
            "ticks": ""
           },
           "bgcolor": "#E5ECF6",
           "radialaxis": {
            "gridcolor": "white",
            "linecolor": "white",
            "ticks": ""
           }
          },
          "scene": {
           "xaxis": {
            "backgroundcolor": "#E5ECF6",
            "gridcolor": "white",
            "gridwidth": 2,
            "linecolor": "white",
            "showbackground": true,
            "ticks": "",
            "zerolinecolor": "white"
           },
           "yaxis": {
            "backgroundcolor": "#E5ECF6",
            "gridcolor": "white",
            "gridwidth": 2,
            "linecolor": "white",
            "showbackground": true,
            "ticks": "",
            "zerolinecolor": "white"
           },
           "zaxis": {
            "backgroundcolor": "#E5ECF6",
            "gridcolor": "white",
            "gridwidth": 2,
            "linecolor": "white",
            "showbackground": true,
            "ticks": "",
            "zerolinecolor": "white"
           }
          },
          "shapedefaults": {
           "line": {
            "color": "#2a3f5f"
           }
          },
          "ternary": {
           "aaxis": {
            "gridcolor": "white",
            "linecolor": "white",
            "ticks": ""
           },
           "baxis": {
            "gridcolor": "white",
            "linecolor": "white",
            "ticks": ""
           },
           "bgcolor": "#E5ECF6",
           "caxis": {
            "gridcolor": "white",
            "linecolor": "white",
            "ticks": ""
           }
          },
          "title": {
           "x": 0.05
          },
          "xaxis": {
           "automargin": true,
           "gridcolor": "white",
           "linecolor": "white",
           "ticks": "",
           "title": {
            "standoff": 15
           },
           "zerolinecolor": "white",
           "zerolinewidth": 2
          },
          "yaxis": {
           "automargin": true,
           "gridcolor": "white",
           "linecolor": "white",
           "ticks": "",
           "title": {
            "standoff": 15
           },
           "zerolinecolor": "white",
           "zerolinewidth": 2
          }
         }
        },
        "xaxis": {
         "anchor": "y",
         "domain": [
          0,
          1
         ],
         "title": {
          "text": "funnel_step"
         }
        },
        "yaxis": {
         "anchor": "x",
         "domain": [
          0,
          1
         ],
         "title": {
          "text": "index"
         }
        }
       }
      }
     },
     "metadata": {},
     "output_type": "display_data"
    }
   ],
   "source": [
    "px.bar(funnel_steps_count, x='funnel_step',  )"
   ]
  },
  {
   "cell_type": "code",
   "execution_count": null,
   "id": "67248edf",
   "metadata": {},
   "outputs": [],
   "source": []
  },
  {
   "cell_type": "code",
   "execution_count": 135,
   "id": "ef1c89f4",
   "metadata": {},
   "outputs": [
    {
     "data": {
      "application/vnd.plotly.v1+json": {
       "config": {
        "plotlyServerURL": "https://plot.ly"
       },
       "data": [
        {
         "alignmentgroup": "True",
         "hovertemplate": "variable=funnel_step<br>index=%{x}<br>value=%{y}<extra></extra>",
         "legendgroup": "funnel_step",
         "marker": {
          "color": "#636efa"
         },
         "name": "funnel_step",
         "offsetgroup": "funnel_step",
         "orientation": "v",
         "showlegend": true,
         "textposition": "auto",
         "type": "bar",
         "x": [
          "sign_up_initiated",
          "sign_up_completed",
          "kyc_completed",
          "first_deposit"
         ],
         "xaxis": "x",
         "y": [
          21284,
          15067,
          9276,
          6785
         ],
         "yaxis": "y"
        }
       ],
       "layout": {
        "barmode": "relative",
        "legend": {
         "title": {
          "text": "variable"
         },
         "tracegroupgap": 0
        },
        "margin": {
         "t": 60
        },
        "template": {
         "data": {
          "bar": [
           {
            "error_x": {
             "color": "#2a3f5f"
            },
            "error_y": {
             "color": "#2a3f5f"
            },
            "marker": {
             "line": {
              "color": "#E5ECF6",
              "width": 0.5
             }
            },
            "type": "bar"
           }
          ],
          "barpolar": [
           {
            "marker": {
             "line": {
              "color": "#E5ECF6",
              "width": 0.5
             }
            },
            "type": "barpolar"
           }
          ],
          "carpet": [
           {
            "aaxis": {
             "endlinecolor": "#2a3f5f",
             "gridcolor": "white",
             "linecolor": "white",
             "minorgridcolor": "white",
             "startlinecolor": "#2a3f5f"
            },
            "baxis": {
             "endlinecolor": "#2a3f5f",
             "gridcolor": "white",
             "linecolor": "white",
             "minorgridcolor": "white",
             "startlinecolor": "#2a3f5f"
            },
            "type": "carpet"
           }
          ],
          "choropleth": [
           {
            "colorbar": {
             "outlinewidth": 0,
             "ticks": ""
            },
            "type": "choropleth"
           }
          ],
          "contour": [
           {
            "colorbar": {
             "outlinewidth": 0,
             "ticks": ""
            },
            "colorscale": [
             [
              0,
              "#0d0887"
             ],
             [
              0.1111111111111111,
              "#46039f"
             ],
             [
              0.2222222222222222,
              "#7201a8"
             ],
             [
              0.3333333333333333,
              "#9c179e"
             ],
             [
              0.4444444444444444,
              "#bd3786"
             ],
             [
              0.5555555555555556,
              "#d8576b"
             ],
             [
              0.6666666666666666,
              "#ed7953"
             ],
             [
              0.7777777777777778,
              "#fb9f3a"
             ],
             [
              0.8888888888888888,
              "#fdca26"
             ],
             [
              1,
              "#f0f921"
             ]
            ],
            "type": "contour"
           }
          ],
          "contourcarpet": [
           {
            "colorbar": {
             "outlinewidth": 0,
             "ticks": ""
            },
            "type": "contourcarpet"
           }
          ],
          "heatmap": [
           {
            "colorbar": {
             "outlinewidth": 0,
             "ticks": ""
            },
            "colorscale": [
             [
              0,
              "#0d0887"
             ],
             [
              0.1111111111111111,
              "#46039f"
             ],
             [
              0.2222222222222222,
              "#7201a8"
             ],
             [
              0.3333333333333333,
              "#9c179e"
             ],
             [
              0.4444444444444444,
              "#bd3786"
             ],
             [
              0.5555555555555556,
              "#d8576b"
             ],
             [
              0.6666666666666666,
              "#ed7953"
             ],
             [
              0.7777777777777778,
              "#fb9f3a"
             ],
             [
              0.8888888888888888,
              "#fdca26"
             ],
             [
              1,
              "#f0f921"
             ]
            ],
            "type": "heatmap"
           }
          ],
          "heatmapgl": [
           {
            "colorbar": {
             "outlinewidth": 0,
             "ticks": ""
            },
            "colorscale": [
             [
              0,
              "#0d0887"
             ],
             [
              0.1111111111111111,
              "#46039f"
             ],
             [
              0.2222222222222222,
              "#7201a8"
             ],
             [
              0.3333333333333333,
              "#9c179e"
             ],
             [
              0.4444444444444444,
              "#bd3786"
             ],
             [
              0.5555555555555556,
              "#d8576b"
             ],
             [
              0.6666666666666666,
              "#ed7953"
             ],
             [
              0.7777777777777778,
              "#fb9f3a"
             ],
             [
              0.8888888888888888,
              "#fdca26"
             ],
             [
              1,
              "#f0f921"
             ]
            ],
            "type": "heatmapgl"
           }
          ],
          "histogram": [
           {
            "marker": {
             "colorbar": {
              "outlinewidth": 0,
              "ticks": ""
             }
            },
            "type": "histogram"
           }
          ],
          "histogram2d": [
           {
            "colorbar": {
             "outlinewidth": 0,
             "ticks": ""
            },
            "colorscale": [
             [
              0,
              "#0d0887"
             ],
             [
              0.1111111111111111,
              "#46039f"
             ],
             [
              0.2222222222222222,
              "#7201a8"
             ],
             [
              0.3333333333333333,
              "#9c179e"
             ],
             [
              0.4444444444444444,
              "#bd3786"
             ],
             [
              0.5555555555555556,
              "#d8576b"
             ],
             [
              0.6666666666666666,
              "#ed7953"
             ],
             [
              0.7777777777777778,
              "#fb9f3a"
             ],
             [
              0.8888888888888888,
              "#fdca26"
             ],
             [
              1,
              "#f0f921"
             ]
            ],
            "type": "histogram2d"
           }
          ],
          "histogram2dcontour": [
           {
            "colorbar": {
             "outlinewidth": 0,
             "ticks": ""
            },
            "colorscale": [
             [
              0,
              "#0d0887"
             ],
             [
              0.1111111111111111,
              "#46039f"
             ],
             [
              0.2222222222222222,
              "#7201a8"
             ],
             [
              0.3333333333333333,
              "#9c179e"
             ],
             [
              0.4444444444444444,
              "#bd3786"
             ],
             [
              0.5555555555555556,
              "#d8576b"
             ],
             [
              0.6666666666666666,
              "#ed7953"
             ],
             [
              0.7777777777777778,
              "#fb9f3a"
             ],
             [
              0.8888888888888888,
              "#fdca26"
             ],
             [
              1,
              "#f0f921"
             ]
            ],
            "type": "histogram2dcontour"
           }
          ],
          "mesh3d": [
           {
            "colorbar": {
             "outlinewidth": 0,
             "ticks": ""
            },
            "type": "mesh3d"
           }
          ],
          "parcoords": [
           {
            "line": {
             "colorbar": {
              "outlinewidth": 0,
              "ticks": ""
             }
            },
            "type": "parcoords"
           }
          ],
          "pie": [
           {
            "automargin": true,
            "type": "pie"
           }
          ],
          "scatter": [
           {
            "marker": {
             "colorbar": {
              "outlinewidth": 0,
              "ticks": ""
             }
            },
            "type": "scatter"
           }
          ],
          "scatter3d": [
           {
            "line": {
             "colorbar": {
              "outlinewidth": 0,
              "ticks": ""
             }
            },
            "marker": {
             "colorbar": {
              "outlinewidth": 0,
              "ticks": ""
             }
            },
            "type": "scatter3d"
           }
          ],
          "scattercarpet": [
           {
            "marker": {
             "colorbar": {
              "outlinewidth": 0,
              "ticks": ""
             }
            },
            "type": "scattercarpet"
           }
          ],
          "scattergeo": [
           {
            "marker": {
             "colorbar": {
              "outlinewidth": 0,
              "ticks": ""
             }
            },
            "type": "scattergeo"
           }
          ],
          "scattergl": [
           {
            "marker": {
             "colorbar": {
              "outlinewidth": 0,
              "ticks": ""
             }
            },
            "type": "scattergl"
           }
          ],
          "scattermapbox": [
           {
            "marker": {
             "colorbar": {
              "outlinewidth": 0,
              "ticks": ""
             }
            },
            "type": "scattermapbox"
           }
          ],
          "scatterpolar": [
           {
            "marker": {
             "colorbar": {
              "outlinewidth": 0,
              "ticks": ""
             }
            },
            "type": "scatterpolar"
           }
          ],
          "scatterpolargl": [
           {
            "marker": {
             "colorbar": {
              "outlinewidth": 0,
              "ticks": ""
             }
            },
            "type": "scatterpolargl"
           }
          ],
          "scatterternary": [
           {
            "marker": {
             "colorbar": {
              "outlinewidth": 0,
              "ticks": ""
             }
            },
            "type": "scatterternary"
           }
          ],
          "surface": [
           {
            "colorbar": {
             "outlinewidth": 0,
             "ticks": ""
            },
            "colorscale": [
             [
              0,
              "#0d0887"
             ],
             [
              0.1111111111111111,
              "#46039f"
             ],
             [
              0.2222222222222222,
              "#7201a8"
             ],
             [
              0.3333333333333333,
              "#9c179e"
             ],
             [
              0.4444444444444444,
              "#bd3786"
             ],
             [
              0.5555555555555556,
              "#d8576b"
             ],
             [
              0.6666666666666666,
              "#ed7953"
             ],
             [
              0.7777777777777778,
              "#fb9f3a"
             ],
             [
              0.8888888888888888,
              "#fdca26"
             ],
             [
              1,
              "#f0f921"
             ]
            ],
            "type": "surface"
           }
          ],
          "table": [
           {
            "cells": {
             "fill": {
              "color": "#EBF0F8"
             },
             "line": {
              "color": "white"
             }
            },
            "header": {
             "fill": {
              "color": "#C8D4E3"
             },
             "line": {
              "color": "white"
             }
            },
            "type": "table"
           }
          ]
         },
         "layout": {
          "annotationdefaults": {
           "arrowcolor": "#2a3f5f",
           "arrowhead": 0,
           "arrowwidth": 1
          },
          "autotypenumbers": "strict",
          "coloraxis": {
           "colorbar": {
            "outlinewidth": 0,
            "ticks": ""
           }
          },
          "colorscale": {
           "diverging": [
            [
             0,
             "#8e0152"
            ],
            [
             0.1,
             "#c51b7d"
            ],
            [
             0.2,
             "#de77ae"
            ],
            [
             0.3,
             "#f1b6da"
            ],
            [
             0.4,
             "#fde0ef"
            ],
            [
             0.5,
             "#f7f7f7"
            ],
            [
             0.6,
             "#e6f5d0"
            ],
            [
             0.7,
             "#b8e186"
            ],
            [
             0.8,
             "#7fbc41"
            ],
            [
             0.9,
             "#4d9221"
            ],
            [
             1,
             "#276419"
            ]
           ],
           "sequential": [
            [
             0,
             "#0d0887"
            ],
            [
             0.1111111111111111,
             "#46039f"
            ],
            [
             0.2222222222222222,
             "#7201a8"
            ],
            [
             0.3333333333333333,
             "#9c179e"
            ],
            [
             0.4444444444444444,
             "#bd3786"
            ],
            [
             0.5555555555555556,
             "#d8576b"
            ],
            [
             0.6666666666666666,
             "#ed7953"
            ],
            [
             0.7777777777777778,
             "#fb9f3a"
            ],
            [
             0.8888888888888888,
             "#fdca26"
            ],
            [
             1,
             "#f0f921"
            ]
           ],
           "sequentialminus": [
            [
             0,
             "#0d0887"
            ],
            [
             0.1111111111111111,
             "#46039f"
            ],
            [
             0.2222222222222222,
             "#7201a8"
            ],
            [
             0.3333333333333333,
             "#9c179e"
            ],
            [
             0.4444444444444444,
             "#bd3786"
            ],
            [
             0.5555555555555556,
             "#d8576b"
            ],
            [
             0.6666666666666666,
             "#ed7953"
            ],
            [
             0.7777777777777778,
             "#fb9f3a"
            ],
            [
             0.8888888888888888,
             "#fdca26"
            ],
            [
             1,
             "#f0f921"
            ]
           ]
          },
          "colorway": [
           "#636efa",
           "#EF553B",
           "#00cc96",
           "#ab63fa",
           "#FFA15A",
           "#19d3f3",
           "#FF6692",
           "#B6E880",
           "#FF97FF",
           "#FECB52"
          ],
          "font": {
           "color": "#2a3f5f"
          },
          "geo": {
           "bgcolor": "white",
           "lakecolor": "white",
           "landcolor": "#E5ECF6",
           "showlakes": true,
           "showland": true,
           "subunitcolor": "white"
          },
          "hoverlabel": {
           "align": "left"
          },
          "hovermode": "closest",
          "mapbox": {
           "style": "light"
          },
          "paper_bgcolor": "white",
          "plot_bgcolor": "#E5ECF6",
          "polar": {
           "angularaxis": {
            "gridcolor": "white",
            "linecolor": "white",
            "ticks": ""
           },
           "bgcolor": "#E5ECF6",
           "radialaxis": {
            "gridcolor": "white",
            "linecolor": "white",
            "ticks": ""
           }
          },
          "scene": {
           "xaxis": {
            "backgroundcolor": "#E5ECF6",
            "gridcolor": "white",
            "gridwidth": 2,
            "linecolor": "white",
            "showbackground": true,
            "ticks": "",
            "zerolinecolor": "white"
           },
           "yaxis": {
            "backgroundcolor": "#E5ECF6",
            "gridcolor": "white",
            "gridwidth": 2,
            "linecolor": "white",
            "showbackground": true,
            "ticks": "",
            "zerolinecolor": "white"
           },
           "zaxis": {
            "backgroundcolor": "#E5ECF6",
            "gridcolor": "white",
            "gridwidth": 2,
            "linecolor": "white",
            "showbackground": true,
            "ticks": "",
            "zerolinecolor": "white"
           }
          },
          "shapedefaults": {
           "line": {
            "color": "#2a3f5f"
           }
          },
          "ternary": {
           "aaxis": {
            "gridcolor": "white",
            "linecolor": "white",
            "ticks": ""
           },
           "baxis": {
            "gridcolor": "white",
            "linecolor": "white",
            "ticks": ""
           },
           "bgcolor": "#E5ECF6",
           "caxis": {
            "gridcolor": "white",
            "linecolor": "white",
            "ticks": ""
           }
          },
          "title": {
           "x": 0.05
          },
          "xaxis": {
           "automargin": true,
           "gridcolor": "white",
           "linecolor": "white",
           "ticks": "",
           "title": {
            "standoff": 15
           },
           "zerolinecolor": "white",
           "zerolinewidth": 2
          },
          "yaxis": {
           "automargin": true,
           "gridcolor": "white",
           "linecolor": "white",
           "ticks": "",
           "title": {
            "standoff": 15
           },
           "zerolinecolor": "white",
           "zerolinewidth": 2
          }
         }
        },
        "xaxis": {
         "anchor": "y",
         "domain": [
          0,
          1
         ],
         "title": {
          "text": "index"
         }
        },
        "yaxis": {
         "anchor": "x",
         "domain": [
          0,
          1
         ],
         "title": {
          "text": "value"
         }
        }
       }
      }
     },
     "metadata": {},
     "output_type": "display_data"
    }
   ],
   "source": [
    "px.bar(funnel_steps_count)"
   ]
  },
  {
   "cell_type": "code",
   "execution_count": 136,
   "id": "a89e8153",
   "metadata": {},
   "outputs": [],
   "source": [
    "x=funnel_user_data['market'].value_counts()"
   ]
  },
  {
   "cell_type": "code",
   "execution_count": 137,
   "id": "5f35e546",
   "metadata": {},
   "outputs": [],
   "source": [
    "y=funnel_user_data['funnel_step'].value_counts()"
   ]
  },
  {
   "cell_type": "code",
   "execution_count": 359,
   "id": "0af2a7d8",
   "metadata": {
    "scrolled": true
   },
   "outputs": [
    {
     "data": {
      "text/plain": [
       "DEU    25105\n",
       "FRA    12543\n",
       "AUT     7163\n",
       "ESP     4967\n",
       "GBR     2380\n",
       "Name: market, dtype: int64"
      ]
     },
     "execution_count": 359,
     "metadata": {},
     "output_type": "execute_result"
    }
   ],
   "source": [
    "x"
   ]
  },
  {
   "cell_type": "code",
   "execution_count": 138,
   "id": "fa41cfd4",
   "metadata": {
    "scrolled": true
   },
   "outputs": [
    {
     "data": {
      "text/plain": [
       "sign_up_initiated    21184\n",
       "sign_up_completed    14986\n",
       "kyc_completed         9234\n",
       "first_deposit         6754\n",
       "Name: funnel_step, dtype: int64"
      ]
     },
     "execution_count": 138,
     "metadata": {},
     "output_type": "execute_result"
    }
   ],
   "source": [
    "y"
   ]
  },
  {
   "cell_type": "code",
   "execution_count": null,
   "id": "6de472b7",
   "metadata": {},
   "outputs": [],
   "source": []
  },
  {
   "cell_type": "code",
   "execution_count": 139,
   "id": "648f996e",
   "metadata": {},
   "outputs": [
    {
     "data": {
      "application/vnd.plotly.v1+json": {
       "config": {
        "plotlyServerURL": "https://plot.ly"
       },
       "data": [
        {
         "name": "sign_up_initiated",
         "type": "bar",
         "y": [
          21184
         ]
        },
        {
         "name": "sign_up_completed",
         "type": "bar",
         "y": [
          14986
         ]
        },
        {
         "name": "kyc_completed",
         "type": "bar",
         "y": [
          9234
         ]
        },
        {
         "name": "first_deposit",
         "type": "bar",
         "y": [
          6754
         ]
        }
       ],
       "layout": {
        "barmode": "overlay",
        "template": {
         "data": {
          "bar": [
           {
            "error_x": {
             "color": "#2a3f5f"
            },
            "error_y": {
             "color": "#2a3f5f"
            },
            "marker": {
             "line": {
              "color": "#E5ECF6",
              "width": 0.5
             }
            },
            "type": "bar"
           }
          ],
          "barpolar": [
           {
            "marker": {
             "line": {
              "color": "#E5ECF6",
              "width": 0.5
             }
            },
            "type": "barpolar"
           }
          ],
          "carpet": [
           {
            "aaxis": {
             "endlinecolor": "#2a3f5f",
             "gridcolor": "white",
             "linecolor": "white",
             "minorgridcolor": "white",
             "startlinecolor": "#2a3f5f"
            },
            "baxis": {
             "endlinecolor": "#2a3f5f",
             "gridcolor": "white",
             "linecolor": "white",
             "minorgridcolor": "white",
             "startlinecolor": "#2a3f5f"
            },
            "type": "carpet"
           }
          ],
          "choropleth": [
           {
            "colorbar": {
             "outlinewidth": 0,
             "ticks": ""
            },
            "type": "choropleth"
           }
          ],
          "contour": [
           {
            "colorbar": {
             "outlinewidth": 0,
             "ticks": ""
            },
            "colorscale": [
             [
              0,
              "#0d0887"
             ],
             [
              0.1111111111111111,
              "#46039f"
             ],
             [
              0.2222222222222222,
              "#7201a8"
             ],
             [
              0.3333333333333333,
              "#9c179e"
             ],
             [
              0.4444444444444444,
              "#bd3786"
             ],
             [
              0.5555555555555556,
              "#d8576b"
             ],
             [
              0.6666666666666666,
              "#ed7953"
             ],
             [
              0.7777777777777778,
              "#fb9f3a"
             ],
             [
              0.8888888888888888,
              "#fdca26"
             ],
             [
              1,
              "#f0f921"
             ]
            ],
            "type": "contour"
           }
          ],
          "contourcarpet": [
           {
            "colorbar": {
             "outlinewidth": 0,
             "ticks": ""
            },
            "type": "contourcarpet"
           }
          ],
          "heatmap": [
           {
            "colorbar": {
             "outlinewidth": 0,
             "ticks": ""
            },
            "colorscale": [
             [
              0,
              "#0d0887"
             ],
             [
              0.1111111111111111,
              "#46039f"
             ],
             [
              0.2222222222222222,
              "#7201a8"
             ],
             [
              0.3333333333333333,
              "#9c179e"
             ],
             [
              0.4444444444444444,
              "#bd3786"
             ],
             [
              0.5555555555555556,
              "#d8576b"
             ],
             [
              0.6666666666666666,
              "#ed7953"
             ],
             [
              0.7777777777777778,
              "#fb9f3a"
             ],
             [
              0.8888888888888888,
              "#fdca26"
             ],
             [
              1,
              "#f0f921"
             ]
            ],
            "type": "heatmap"
           }
          ],
          "heatmapgl": [
           {
            "colorbar": {
             "outlinewidth": 0,
             "ticks": ""
            },
            "colorscale": [
             [
              0,
              "#0d0887"
             ],
             [
              0.1111111111111111,
              "#46039f"
             ],
             [
              0.2222222222222222,
              "#7201a8"
             ],
             [
              0.3333333333333333,
              "#9c179e"
             ],
             [
              0.4444444444444444,
              "#bd3786"
             ],
             [
              0.5555555555555556,
              "#d8576b"
             ],
             [
              0.6666666666666666,
              "#ed7953"
             ],
             [
              0.7777777777777778,
              "#fb9f3a"
             ],
             [
              0.8888888888888888,
              "#fdca26"
             ],
             [
              1,
              "#f0f921"
             ]
            ],
            "type": "heatmapgl"
           }
          ],
          "histogram": [
           {
            "marker": {
             "colorbar": {
              "outlinewidth": 0,
              "ticks": ""
             }
            },
            "type": "histogram"
           }
          ],
          "histogram2d": [
           {
            "colorbar": {
             "outlinewidth": 0,
             "ticks": ""
            },
            "colorscale": [
             [
              0,
              "#0d0887"
             ],
             [
              0.1111111111111111,
              "#46039f"
             ],
             [
              0.2222222222222222,
              "#7201a8"
             ],
             [
              0.3333333333333333,
              "#9c179e"
             ],
             [
              0.4444444444444444,
              "#bd3786"
             ],
             [
              0.5555555555555556,
              "#d8576b"
             ],
             [
              0.6666666666666666,
              "#ed7953"
             ],
             [
              0.7777777777777778,
              "#fb9f3a"
             ],
             [
              0.8888888888888888,
              "#fdca26"
             ],
             [
              1,
              "#f0f921"
             ]
            ],
            "type": "histogram2d"
           }
          ],
          "histogram2dcontour": [
           {
            "colorbar": {
             "outlinewidth": 0,
             "ticks": ""
            },
            "colorscale": [
             [
              0,
              "#0d0887"
             ],
             [
              0.1111111111111111,
              "#46039f"
             ],
             [
              0.2222222222222222,
              "#7201a8"
             ],
             [
              0.3333333333333333,
              "#9c179e"
             ],
             [
              0.4444444444444444,
              "#bd3786"
             ],
             [
              0.5555555555555556,
              "#d8576b"
             ],
             [
              0.6666666666666666,
              "#ed7953"
             ],
             [
              0.7777777777777778,
              "#fb9f3a"
             ],
             [
              0.8888888888888888,
              "#fdca26"
             ],
             [
              1,
              "#f0f921"
             ]
            ],
            "type": "histogram2dcontour"
           }
          ],
          "mesh3d": [
           {
            "colorbar": {
             "outlinewidth": 0,
             "ticks": ""
            },
            "type": "mesh3d"
           }
          ],
          "parcoords": [
           {
            "line": {
             "colorbar": {
              "outlinewidth": 0,
              "ticks": ""
             }
            },
            "type": "parcoords"
           }
          ],
          "pie": [
           {
            "automargin": true,
            "type": "pie"
           }
          ],
          "scatter": [
           {
            "marker": {
             "colorbar": {
              "outlinewidth": 0,
              "ticks": ""
             }
            },
            "type": "scatter"
           }
          ],
          "scatter3d": [
           {
            "line": {
             "colorbar": {
              "outlinewidth": 0,
              "ticks": ""
             }
            },
            "marker": {
             "colorbar": {
              "outlinewidth": 0,
              "ticks": ""
             }
            },
            "type": "scatter3d"
           }
          ],
          "scattercarpet": [
           {
            "marker": {
             "colorbar": {
              "outlinewidth": 0,
              "ticks": ""
             }
            },
            "type": "scattercarpet"
           }
          ],
          "scattergeo": [
           {
            "marker": {
             "colorbar": {
              "outlinewidth": 0,
              "ticks": ""
             }
            },
            "type": "scattergeo"
           }
          ],
          "scattergl": [
           {
            "marker": {
             "colorbar": {
              "outlinewidth": 0,
              "ticks": ""
             }
            },
            "type": "scattergl"
           }
          ],
          "scattermapbox": [
           {
            "marker": {
             "colorbar": {
              "outlinewidth": 0,
              "ticks": ""
             }
            },
            "type": "scattermapbox"
           }
          ],
          "scatterpolar": [
           {
            "marker": {
             "colorbar": {
              "outlinewidth": 0,
              "ticks": ""
             }
            },
            "type": "scatterpolar"
           }
          ],
          "scatterpolargl": [
           {
            "marker": {
             "colorbar": {
              "outlinewidth": 0,
              "ticks": ""
             }
            },
            "type": "scatterpolargl"
           }
          ],
          "scatterternary": [
           {
            "marker": {
             "colorbar": {
              "outlinewidth": 0,
              "ticks": ""
             }
            },
            "type": "scatterternary"
           }
          ],
          "surface": [
           {
            "colorbar": {
             "outlinewidth": 0,
             "ticks": ""
            },
            "colorscale": [
             [
              0,
              "#0d0887"
             ],
             [
              0.1111111111111111,
              "#46039f"
             ],
             [
              0.2222222222222222,
              "#7201a8"
             ],
             [
              0.3333333333333333,
              "#9c179e"
             ],
             [
              0.4444444444444444,
              "#bd3786"
             ],
             [
              0.5555555555555556,
              "#d8576b"
             ],
             [
              0.6666666666666666,
              "#ed7953"
             ],
             [
              0.7777777777777778,
              "#fb9f3a"
             ],
             [
              0.8888888888888888,
              "#fdca26"
             ],
             [
              1,
              "#f0f921"
             ]
            ],
            "type": "surface"
           }
          ],
          "table": [
           {
            "cells": {
             "fill": {
              "color": "#EBF0F8"
             },
             "line": {
              "color": "white"
             }
            },
            "header": {
             "fill": {
              "color": "#C8D4E3"
             },
             "line": {
              "color": "white"
             }
            },
            "type": "table"
           }
          ]
         },
         "layout": {
          "annotationdefaults": {
           "arrowcolor": "#2a3f5f",
           "arrowhead": 0,
           "arrowwidth": 1
          },
          "autotypenumbers": "strict",
          "coloraxis": {
           "colorbar": {
            "outlinewidth": 0,
            "ticks": ""
           }
          },
          "colorscale": {
           "diverging": [
            [
             0,
             "#8e0152"
            ],
            [
             0.1,
             "#c51b7d"
            ],
            [
             0.2,
             "#de77ae"
            ],
            [
             0.3,
             "#f1b6da"
            ],
            [
             0.4,
             "#fde0ef"
            ],
            [
             0.5,
             "#f7f7f7"
            ],
            [
             0.6,
             "#e6f5d0"
            ],
            [
             0.7,
             "#b8e186"
            ],
            [
             0.8,
             "#7fbc41"
            ],
            [
             0.9,
             "#4d9221"
            ],
            [
             1,
             "#276419"
            ]
           ],
           "sequential": [
            [
             0,
             "#0d0887"
            ],
            [
             0.1111111111111111,
             "#46039f"
            ],
            [
             0.2222222222222222,
             "#7201a8"
            ],
            [
             0.3333333333333333,
             "#9c179e"
            ],
            [
             0.4444444444444444,
             "#bd3786"
            ],
            [
             0.5555555555555556,
             "#d8576b"
            ],
            [
             0.6666666666666666,
             "#ed7953"
            ],
            [
             0.7777777777777778,
             "#fb9f3a"
            ],
            [
             0.8888888888888888,
             "#fdca26"
            ],
            [
             1,
             "#f0f921"
            ]
           ],
           "sequentialminus": [
            [
             0,
             "#0d0887"
            ],
            [
             0.1111111111111111,
             "#46039f"
            ],
            [
             0.2222222222222222,
             "#7201a8"
            ],
            [
             0.3333333333333333,
             "#9c179e"
            ],
            [
             0.4444444444444444,
             "#bd3786"
            ],
            [
             0.5555555555555556,
             "#d8576b"
            ],
            [
             0.6666666666666666,
             "#ed7953"
            ],
            [
             0.7777777777777778,
             "#fb9f3a"
            ],
            [
             0.8888888888888888,
             "#fdca26"
            ],
            [
             1,
             "#f0f921"
            ]
           ]
          },
          "colorway": [
           "#636efa",
           "#EF553B",
           "#00cc96",
           "#ab63fa",
           "#FFA15A",
           "#19d3f3",
           "#FF6692",
           "#B6E880",
           "#FF97FF",
           "#FECB52"
          ],
          "font": {
           "color": "#2a3f5f"
          },
          "geo": {
           "bgcolor": "white",
           "lakecolor": "white",
           "landcolor": "#E5ECF6",
           "showlakes": true,
           "showland": true,
           "subunitcolor": "white"
          },
          "hoverlabel": {
           "align": "left"
          },
          "hovermode": "closest",
          "mapbox": {
           "style": "light"
          },
          "paper_bgcolor": "white",
          "plot_bgcolor": "#E5ECF6",
          "polar": {
           "angularaxis": {
            "gridcolor": "white",
            "linecolor": "white",
            "ticks": ""
           },
           "bgcolor": "#E5ECF6",
           "radialaxis": {
            "gridcolor": "white",
            "linecolor": "white",
            "ticks": ""
           }
          },
          "scene": {
           "xaxis": {
            "backgroundcolor": "#E5ECF6",
            "gridcolor": "white",
            "gridwidth": 2,
            "linecolor": "white",
            "showbackground": true,
            "ticks": "",
            "zerolinecolor": "white"
           },
           "yaxis": {
            "backgroundcolor": "#E5ECF6",
            "gridcolor": "white",
            "gridwidth": 2,
            "linecolor": "white",
            "showbackground": true,
            "ticks": "",
            "zerolinecolor": "white"
           },
           "zaxis": {
            "backgroundcolor": "#E5ECF6",
            "gridcolor": "white",
            "gridwidth": 2,
            "linecolor": "white",
            "showbackground": true,
            "ticks": "",
            "zerolinecolor": "white"
           }
          },
          "shapedefaults": {
           "line": {
            "color": "#2a3f5f"
           }
          },
          "ternary": {
           "aaxis": {
            "gridcolor": "white",
            "linecolor": "white",
            "ticks": ""
           },
           "baxis": {
            "gridcolor": "white",
            "linecolor": "white",
            "ticks": ""
           },
           "bgcolor": "#E5ECF6",
           "caxis": {
            "gridcolor": "white",
            "linecolor": "white",
            "ticks": ""
           }
          },
          "title": {
           "x": 0.05
          },
          "xaxis": {
           "automargin": true,
           "gridcolor": "white",
           "linecolor": "white",
           "ticks": "",
           "title": {
            "standoff": 15
           },
           "zerolinecolor": "white",
           "zerolinewidth": 2
          },
          "yaxis": {
           "automargin": true,
           "gridcolor": "white",
           "linecolor": "white",
           "ticks": "",
           "title": {
            "standoff": 15
           },
           "zerolinecolor": "white",
           "zerolinewidth": 2
          }
         }
        }
       }
      }
     },
     "metadata": {},
     "output_type": "display_data"
    }
   ],
   "source": [
    "\n",
    "fig = go.Figure(data=[\n",
    "    go.Bar(name='sign_up_initiated',  y=[21184]), \n",
    "    go.Bar(name='sign_up_completed',  y=[14986]), \n",
    "    go.Bar(name='kyc_completed',  y=[9234]),\n",
    "    go.Bar(name='first_deposit',  y=[6754]),\n",
    "             \n",
    "])\n",
    "# Change the bar mode\n",
    "fig.update_layout(barmode='overlay')\n",
    "fig.show()"
   ]
  },
  {
   "cell_type": "code",
   "execution_count": null,
   "id": "1f8ca086",
   "metadata": {},
   "outputs": [],
   "source": []
  },
  {
   "cell_type": "code",
   "execution_count": 140,
   "id": "54431962",
   "metadata": {},
   "outputs": [
    {
     "data": {
      "text/plain": [
       "sign_up_initiated    21184\n",
       "sign_up_completed    14986\n",
       "kyc_completed         9234\n",
       "first_deposit         6754\n",
       "Name: funnel_step, dtype: int64"
      ]
     },
     "execution_count": 140,
     "metadata": {},
     "output_type": "execute_result"
    }
   ],
   "source": [
    "funnel_user_data['funnel_step'].value_counts()"
   ]
  },
  {
   "cell_type": "code",
   "execution_count": null,
   "id": "eee51351",
   "metadata": {},
   "outputs": [],
   "source": []
  },
  {
   "cell_type": "code",
   "execution_count": 350,
   "id": "fae1caee",
   "metadata": {},
   "outputs": [],
   "source": [
    "#Exporting the Data for additional Analysis and Visualisation in Tableau"
   ]
  },
  {
   "cell_type": "code",
   "execution_count": 351,
   "id": "792a66d4",
   "metadata": {},
   "outputs": [],
   "source": [
    "#funnel_user_data.to_csv('/Users/charliesmooth/downloads/funnel_user_data_clean.csv')"
   ]
  }
 ],
 "metadata": {
  "kernelspec": {
   "display_name": "Python 3.9.4 64-bit",
   "language": "python",
   "name": "python3"
  },
  "language_info": {
   "codemirror_mode": {
    "name": "ipython",
    "version": 3
   },
   "file_extension": ".py",
   "mimetype": "text/x-python",
   "name": "python",
   "nbconvert_exporter": "python",
   "pygments_lexer": "ipython3",
   "version": "3.9.4"
  },
  "vscode": {
   "interpreter": {
    "hash": "aee8b7b246df8f9039afb4144a1f6fd8d2ca17a180786b69acc140d282b71a49"
   }
  }
 },
 "nbformat": 4,
 "nbformat_minor": 5
}
